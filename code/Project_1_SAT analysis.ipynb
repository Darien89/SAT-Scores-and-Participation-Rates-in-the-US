{
 "cells": [
  {
   "cell_type": "markdown",
   "metadata": {},
   "source": [
    "<img src=\"http://imgur.com/1ZcRyrc.png\" style=\"float: left; margin: 20px; height: 55px\">\n",
    "\n",
    "# Project 1: Standardized Test Analysis"
   ]
  },
  {
   "cell_type": "markdown",
   "metadata": {},
   "source": [
    "--- \n",
    "# Part 1\n",
    "\n",
    "Part 1 requires knowledge of basic Python.\n",
    "\n",
    "---"
   ]
  },
  {
   "cell_type": "markdown",
   "metadata": {},
   "source": [
    "## Problem Statement"
   ]
  },
  {
   "cell_type": "markdown",
   "metadata": {},
   "source": [
    "The U.S. Department of Education wants to promote preparation for global competitiveness and intends to announce a new grant program. <br>The hypothesis is that additional funding to the states will increase the states' SAT participation and SAT scores. This project examines the relationship between per pupil funding, the SAT participation and SAT scores for the years 2018 and 2019, with a recommendation on how to best distribute the additional funding."
   ]
  },
  {
   "cell_type": "markdown",
   "metadata": {},
   "source": [
    "### Contents:\n",
    "- [Background](#Background)\n",
    "- [Data Import & Cleaning](#Data-Import-and-Cleaning)\n",
    "- [Exploratory Data Analysis](#Exploratory-Data-Analysis)\n",
    "- [Data Visualization](#Visualize-the-Data)\n",
    "- [Conclusions and Recommendations](#Conclusions-and-Recommendations)"
   ]
  },
  {
   "cell_type": "markdown",
   "metadata": {},
   "source": [
    "## Background"
   ]
  },
  {
   "cell_type": "markdown",
   "metadata": {},
   "source": [
    "The SAT and ACT are standardized tests that many colleges and universities in the United States require for their admissions process. This score is used along with other materials such as grade point average (GPA) and essay responses to determine whether or not a potential student will be accepted to the university.\n",
    "\n",
    "The SAT has two sections of the test: Evidence-Based Reading and Writing and Math ([*source*](https://www.princetonreview.com/college/sat-sections)). The ACT has 4 sections: English, Mathematics, Reading, and Science, with an additional optional writing section ([*source*](https://www.act.org/content/act/en/products-and-services/the-act/scores/understanding-your-scores.html)). They have different score ranges, which you can read more about on their websites or additional outside sources (a quick Google search will help you understand the scores for each test):\n",
    "* [SAT](https://collegereadiness.collegeboard.org/sat)\n",
    "* [ACT](https://www.act.org/content/act/en.html)\n",
    "\n",
    "Standardized tests have long been a controversial topic for students, administrators, and legislators. Since the 1940's, an increasing number of colleges have been using scores from sudents' performances on tests like the SAT and the ACT as a measure for college readiness and aptitude ([*source*](https://www.minotdailynews.com/news/local-news/2017/04/a-brief-history-of-the-sat-and-act/)). Supporters of these tests argue that these scores can be used as an objective measure to determine college admittance. Opponents of these tests claim that these tests are not accurate measures of students potential or ability and serve as an inequitable barrier to entry. Lately, more and more schools are opting to drop the SAT/ACT requirement for their Fall 2021 applications ([*read more about this here*](https://www.cnn.com/2020/04/14/us/coronavirus-colleges-sat-act-test-trnd/index.html))."
   ]
  },
  {
   "cell_type": "markdown",
   "metadata": {},
   "source": [
    "### Choose your Data\n",
    "\n",
    "There are 10 datasets included in the [`data`](./data/) folder for this project. You are required to pick **at least two** of these to complete your analysis. Feel free to use more than two if you would like, or add other relevant datasets you find online.\n",
    "\n",
    "* [`act_2017.csv`](./data/act_2017.csv): 2017 ACT Scores by State\n",
    "* [`act_2018.csv`](./data/act_2018.csv): 2018 ACT Scores by State\n",
    "* [`act_2019.csv`](./data/act_2019.csv): 2019 ACT Scores by State\n",
    "* [`act_2019_ca.csv`](./data/act_2019_ca.csv): 2019 ACT Scores in California by School\n",
    "* [`sat_2017.csv`](./data/sat_2017.csv): 2017 SAT Scores by State\n",
    "* [`sat_2018.csv`](./data/sat_2018.csv): 2018 SAT Scores by State\n",
    "* [`sat_2019.csv`](./data/sat_2019.csv): 2019 SAT Scores by State\n",
    "* [`sat_2019_by_intended_college_major.csv`](./data/sat_2019_by_intended_college_major.csv): 2019 SAT Scores by Intended College Major\n",
    "* [`sat_2019_ca.csv`](./data/sat_2019_ca.csv): 2019 SAT Scores in California by School\n",
    "* [`sat_act_by_college.csv`](./data/sat_act_by_college.csv): Ranges of Accepted ACT & SAT Student Scores by Colleges"
   ]
  },
  {
   "cell_type": "markdown",
   "metadata": {},
   "source": [
    "**Data used for analysis**\n",
    "\n",
    "* [`act_2018.csv`](./data/act_2018.csv): 2018 ACT Scores by State\n",
    "* [`act_2019.csv`](./data/act_2019.csv): 2019 ACT Scores by State\n",
    "* [`total_spending_per_student_by_state_2018_2019.csv`](./source/total_spending_per_student_by_state_2018_2019.csv): 2018 & 2019 Funding per Student by State"
   ]
  },
  {
   "cell_type": "markdown",
   "metadata": {},
   "source": [
    "### Outside Research"
   ]
  },
  {
   "cell_type": "markdown",
   "metadata": {},
   "source": [
    "Based on your problem statement and your chosen datasets, spend some time doing outside research on state policies or additional information that might be relevant. Summarize your findings below. If you bring in any outside tables or charts, make sure you are explicit about having borrowed them. If you quote any text, make sure that it renders as being quoted. **Make sure that you cite your sources.**"
   ]
  },
  {
   "cell_type": "markdown",
   "metadata": {},
   "source": [
    "<ins>Costs\n",
    "\n",
    "One reason wealthier students get higher SAT scores is because they can afford to take the test several times, which has been known to increase a students’ score.\n",
    "\n",
    "These costs can be prohibitively expensive for many students. Many low-income students are provided fee waivers that cover two free SATs, with or without the essay, and six free SAT subject tests. But wealthy students are still more likely to have taken standardized tests like the SAT more than once. ([*Quoted*](https://www.cnbc.com/2019/10/03/rich-students-get-better-sat-scores-heres-why.html))\n",
    "\n",
    "<ins>Academic support\n",
    "\n",
    "Students who live in wealthy school districts typically attend better-funded schools. These funding disparities mean that wealthy students are more likely to attend high schools that will give them advantages in the college application and standardized test-taking processes. \n",
    "\n",
    "Wealthy students are more likely to attend high schools with a significant number of AP classes, more likely to have access to tutors and more likely to have taken standardized test preparation classes — all advantages that have been tied to higher standardized test scores. ([*Quoted*](https://www.cnbc.com/2019/10/03/rich-students-get-better-sat-scores-heres-why.html))"
   ]
  },
  {
   "cell_type": "markdown",
   "metadata": {},
   "source": [
    "### Coding Challenges\n",
    "\n",
    "1. Manually calculate mean:\n",
    "\n",
    "    Write a function that takes in values and returns the mean of the values. Create a list of numbers that you test on your function to check to make sure your function works!\n",
    "    \n",
    "    *Note*: Do not use any mean methods built-in to any Python libraries to do this! This should be done without importing any additional libraries."
   ]
  },
  {
   "cell_type": "code",
   "execution_count": 1,
   "metadata": {},
   "outputs": [
    {
     "data": {
      "text/plain": [
       "10.4"
      ]
     },
     "execution_count": 1,
     "metadata": {},
     "output_type": "execute_result"
    }
   ],
   "source": [
    "# Manually calculate mean:\n",
    "def mean_value(x):\n",
    "    return sum(x) / len(x)\n",
    "\n",
    "x = [4, 10, 13, 2, 23]             #creat a list of numbers\n",
    "\n",
    "mean_value(x)      "
   ]
  },
  {
   "cell_type": "markdown",
   "metadata": {},
   "source": [
    "2. Manually calculate standard deviation:\n",
    "\n",
    "    The formula for standard deviation is below:\n",
    "\n",
    "    $$\\sigma = \\sqrt{\\frac{1}{n}\\sum_{i=1}^n(x_i - \\mu)^2}$$\n",
    "\n",
    "    Where $x_i$ represents each value in the dataset, $\\mu$ represents the mean of all values in the dataset and $n$ represents the number of values in the dataset.\n",
    "\n",
    "    Write a function that takes in values and returns the standard deviation of the values using the formula above. Hint: use the function you wrote above to calculate the mean! Use the list of numbers you created above to test on your function.\n",
    "    \n",
    "    *Note*: Do not use any standard deviation methods built-in to any Python libraries to do this! This should be done without importing any additional libraries."
   ]
  },
  {
   "cell_type": "code",
   "execution_count": 2,
   "metadata": {},
   "outputs": [
    {
     "data": {
      "text/plain": [
       "7.445804187594514"
      ]
     },
     "execution_count": 2,
     "metadata": {},
     "output_type": "execute_result"
    }
   ],
   "source": [
    "# Manually calculate standard deviation:\n",
    "x = [4, 10, 13, 2, 23]\n",
    "    \n",
    "def std_dev(x):\n",
    "    value = []\n",
    "    for num in x:                        #using for loop function\n",
    "        dev = (num - mean_value(x))**2   #mean_value from formula above\n",
    "        value.append(dev)\n",
    "    sd = (sum(value) / len(x))**0.5      #calculate standard deviation\n",
    "    return sd\n",
    "\n",
    "std_dev(x)"
   ]
  },
  {
   "cell_type": "markdown",
   "metadata": {},
   "source": [
    "3. Data cleaning function:\n",
    "    \n",
    "    Write a function that takes in a string that is a number and a percent symbol (ex. '50%', '30.5%', etc.) and converts this to a float that is the decimal approximation of the percent. For example, inputting '50%' in your function should return 0.5, '30.5%' should return 0.305, etc. Make sure to test your function to make sure it works!\n",
    "\n",
    "You will use these functions later on in the project!"
   ]
  },
  {
   "cell_type": "code",
   "execution_count": 3,
   "metadata": {},
   "outputs": [
    {
     "name": "stdout",
     "output_type": "stream",
     "text": [
      "0.5\n",
      "<class 'float'>\n"
     ]
    }
   ],
   "source": [
    "# to remove % and convert to float :\n",
    "\n",
    "def conv(data):\n",
    "    return (float(data.strip('%'))/100)\n",
    "\n",
    "print(conv('50%'))\n",
    "print(type(conv('50%')))"
   ]
  },
  {
   "cell_type": "markdown",
   "metadata": {},
   "source": [
    "--- \n",
    "# Part 2\n",
    "\n",
    "Part 2 requires knowledge of Pandas, EDA, data cleaning, and data visualization.\n",
    "\n",
    "---"
   ]
  },
  {
   "cell_type": "markdown",
   "metadata": {},
   "source": [
    "*All libraries used should be added here*"
   ]
  },
  {
   "cell_type": "code",
   "execution_count": 4,
   "metadata": {},
   "outputs": [],
   "source": [
    "# Imports:\n",
    "import numpy as np\n",
    "import pandas as pd\n",
    "import matplotlib.pyplot as plt\n",
    "import seaborn as sns"
   ]
  },
  {
   "cell_type": "markdown",
   "metadata": {},
   "source": [
    "## Data Import and Cleaning"
   ]
  },
  {
   "cell_type": "markdown",
   "metadata": {},
   "source": [
    "### Data Import & Cleaning\n",
    "\n",
    "Import the datasets that you selected for this project and go through the following steps at a minimum. You are welcome to do further cleaning as you feel necessary:\n",
    "1. Display the data: print the first 5 rows of each dataframe to your Jupyter notebook.\n",
    "2. Check for missing values.\n",
    "3. Check for any obvious issues with the observations (keep in mind the minimum & maximum possible values for each test/subtest).\n",
    "4. Fix any errors you identified in steps 2-3.\n",
    "5. Display the data types of each feature.\n",
    "6. Fix any incorrect data types found in step 5.\n",
    "    - Fix any individual values preventing other columns from being the appropriate type.\n",
    "    - If your dataset has a column of percents (ex. '50%', '30.5%', etc.), use the function you wrote in Part 1 (coding challenges, number 3) to convert this to floats! *Hint*: use `.map()` or `.apply()`.\n",
    "7. Rename Columns.\n",
    "    - Column names should be all lowercase.\n",
    "    - Column names should not contain spaces (underscores will suffice--this allows for using the `df.column_name` method to access columns in addition to `df['column_name']`).\n",
    "    - Column names should be unique and informative.\n",
    "8. Drop unnecessary rows (if needed).\n",
    "9. Merge dataframes that can be merged.\n",
    "10. Perform any additional cleaning that you feel is necessary.\n",
    "11. Save your cleaned and merged dataframes as csv files."
   ]
  },
  {
   "cell_type": "code",
   "execution_count": 5,
   "metadata": {},
   "outputs": [],
   "source": [
    "#load files\n",
    "sat_2018 = pd.read_csv('../data/sat_2018.csv')\n",
    "sat_2019 = pd.read_csv('../data/sat_2019.csv')\n",
    "total_spending = pd.read_csv('../source/total_spending_per_student_by_state_2018_2019.csv')"
   ]
  },
  {
   "cell_type": "code",
   "execution_count": 6,
   "metadata": {},
   "outputs": [
    {
     "data": {
      "text/html": [
       "<div>\n",
       "<style scoped>\n",
       "    .dataframe tbody tr th:only-of-type {\n",
       "        vertical-align: middle;\n",
       "    }\n",
       "\n",
       "    .dataframe tbody tr th {\n",
       "        vertical-align: top;\n",
       "    }\n",
       "\n",
       "    .dataframe thead th {\n",
       "        text-align: right;\n",
       "    }\n",
       "</style>\n",
       "<table border=\"1\" class=\"dataframe\">\n",
       "  <thead>\n",
       "    <tr style=\"text-align: right;\">\n",
       "      <th></th>\n",
       "      <th>State</th>\n",
       "      <th>Participation</th>\n",
       "      <th>Evidence-Based Reading and Writing</th>\n",
       "      <th>Math</th>\n",
       "      <th>Total</th>\n",
       "    </tr>\n",
       "  </thead>\n",
       "  <tbody>\n",
       "    <tr>\n",
       "      <th>0</th>\n",
       "      <td>Alabama</td>\n",
       "      <td>6%</td>\n",
       "      <td>595</td>\n",
       "      <td>571</td>\n",
       "      <td>1166</td>\n",
       "    </tr>\n",
       "    <tr>\n",
       "      <th>1</th>\n",
       "      <td>Alaska</td>\n",
       "      <td>43%</td>\n",
       "      <td>562</td>\n",
       "      <td>544</td>\n",
       "      <td>1106</td>\n",
       "    </tr>\n",
       "    <tr>\n",
       "      <th>2</th>\n",
       "      <td>Arizona</td>\n",
       "      <td>29%</td>\n",
       "      <td>577</td>\n",
       "      <td>572</td>\n",
       "      <td>1149</td>\n",
       "    </tr>\n",
       "    <tr>\n",
       "      <th>3</th>\n",
       "      <td>Arkansas</td>\n",
       "      <td>5%</td>\n",
       "      <td>592</td>\n",
       "      <td>576</td>\n",
       "      <td>1169</td>\n",
       "    </tr>\n",
       "    <tr>\n",
       "      <th>4</th>\n",
       "      <td>California</td>\n",
       "      <td>60%</td>\n",
       "      <td>540</td>\n",
       "      <td>536</td>\n",
       "      <td>1076</td>\n",
       "    </tr>\n",
       "  </tbody>\n",
       "</table>\n",
       "</div>"
      ],
      "text/plain": [
       "        State Participation  Evidence-Based Reading and Writing  Math  Total\n",
       "0     Alabama            6%                                 595   571   1166\n",
       "1      Alaska           43%                                 562   544   1106\n",
       "2     Arizona           29%                                 577   572   1149\n",
       "3    Arkansas            5%                                 592   576   1169\n",
       "4  California           60%                                 540   536   1076"
      ]
     },
     "execution_count": 6,
     "metadata": {},
     "output_type": "execute_result"
    }
   ],
   "source": [
    "#Display the first 5 rows of each dataframe.\n",
    "sat_2018.head()"
   ]
  },
  {
   "cell_type": "code",
   "execution_count": 7,
   "metadata": {},
   "outputs": [
    {
     "data": {
      "text/html": [
       "<div>\n",
       "<style scoped>\n",
       "    .dataframe tbody tr th:only-of-type {\n",
       "        vertical-align: middle;\n",
       "    }\n",
       "\n",
       "    .dataframe tbody tr th {\n",
       "        vertical-align: top;\n",
       "    }\n",
       "\n",
       "    .dataframe thead th {\n",
       "        text-align: right;\n",
       "    }\n",
       "</style>\n",
       "<table border=\"1\" class=\"dataframe\">\n",
       "  <thead>\n",
       "    <tr style=\"text-align: right;\">\n",
       "      <th></th>\n",
       "      <th>State</th>\n",
       "      <th>Participation Rate</th>\n",
       "      <th>EBRW</th>\n",
       "      <th>Math</th>\n",
       "      <th>Total</th>\n",
       "    </tr>\n",
       "  </thead>\n",
       "  <tbody>\n",
       "    <tr>\n",
       "      <th>0</th>\n",
       "      <td>Alabama</td>\n",
       "      <td>7%</td>\n",
       "      <td>583</td>\n",
       "      <td>560</td>\n",
       "      <td>1143</td>\n",
       "    </tr>\n",
       "    <tr>\n",
       "      <th>1</th>\n",
       "      <td>Alaska</td>\n",
       "      <td>41%</td>\n",
       "      <td>556</td>\n",
       "      <td>541</td>\n",
       "      <td>1097</td>\n",
       "    </tr>\n",
       "    <tr>\n",
       "      <th>2</th>\n",
       "      <td>Arizona</td>\n",
       "      <td>31%</td>\n",
       "      <td>569</td>\n",
       "      <td>565</td>\n",
       "      <td>1134</td>\n",
       "    </tr>\n",
       "    <tr>\n",
       "      <th>3</th>\n",
       "      <td>Arkansas</td>\n",
       "      <td>6%</td>\n",
       "      <td>582</td>\n",
       "      <td>559</td>\n",
       "      <td>1141</td>\n",
       "    </tr>\n",
       "    <tr>\n",
       "      <th>4</th>\n",
       "      <td>California</td>\n",
       "      <td>63%</td>\n",
       "      <td>534</td>\n",
       "      <td>531</td>\n",
       "      <td>1065</td>\n",
       "    </tr>\n",
       "  </tbody>\n",
       "</table>\n",
       "</div>"
      ],
      "text/plain": [
       "        State Participation Rate  EBRW  Math  Total\n",
       "0     Alabama                 7%   583   560   1143\n",
       "1      Alaska                41%   556   541   1097\n",
       "2     Arizona                31%   569   565   1134\n",
       "3    Arkansas                 6%   582   559   1141\n",
       "4  California                63%   534   531   1065"
      ]
     },
     "execution_count": 7,
     "metadata": {},
     "output_type": "execute_result"
    }
   ],
   "source": [
    "#Display the first 5 rows of each dataframe.\n",
    "sat_2019.head()"
   ]
  },
  {
   "cell_type": "code",
   "execution_count": 8,
   "metadata": {},
   "outputs": [],
   "source": [
    "#change columns to lowercase for sat_2018\n",
    "sat_2018.columns = sat_2018.columns.str.lower()"
   ]
  },
  {
   "cell_type": "code",
   "execution_count": 9,
   "metadata": {},
   "outputs": [
    {
     "data": {
      "text/html": [
       "<div>\n",
       "<style scoped>\n",
       "    .dataframe tbody tr th:only-of-type {\n",
       "        vertical-align: middle;\n",
       "    }\n",
       "\n",
       "    .dataframe tbody tr th {\n",
       "        vertical-align: top;\n",
       "    }\n",
       "\n",
       "    .dataframe thead th {\n",
       "        text-align: right;\n",
       "    }\n",
       "</style>\n",
       "<table border=\"1\" class=\"dataframe\">\n",
       "  <thead>\n",
       "    <tr style=\"text-align: right;\">\n",
       "      <th></th>\n",
       "      <th>state</th>\n",
       "      <th>participation_2018</th>\n",
       "      <th>ebrw_2018</th>\n",
       "      <th>math_2018</th>\n",
       "      <th>total_2018</th>\n",
       "    </tr>\n",
       "  </thead>\n",
       "  <tbody>\n",
       "    <tr>\n",
       "      <th>0</th>\n",
       "      <td>Alabama</td>\n",
       "      <td>6%</td>\n",
       "      <td>595</td>\n",
       "      <td>571</td>\n",
       "      <td>1166</td>\n",
       "    </tr>\n",
       "    <tr>\n",
       "      <th>1</th>\n",
       "      <td>Alaska</td>\n",
       "      <td>43%</td>\n",
       "      <td>562</td>\n",
       "      <td>544</td>\n",
       "      <td>1106</td>\n",
       "    </tr>\n",
       "    <tr>\n",
       "      <th>2</th>\n",
       "      <td>Arizona</td>\n",
       "      <td>29%</td>\n",
       "      <td>577</td>\n",
       "      <td>572</td>\n",
       "      <td>1149</td>\n",
       "    </tr>\n",
       "    <tr>\n",
       "      <th>3</th>\n",
       "      <td>Arkansas</td>\n",
       "      <td>5%</td>\n",
       "      <td>592</td>\n",
       "      <td>576</td>\n",
       "      <td>1169</td>\n",
       "    </tr>\n",
       "    <tr>\n",
       "      <th>4</th>\n",
       "      <td>California</td>\n",
       "      <td>60%</td>\n",
       "      <td>540</td>\n",
       "      <td>536</td>\n",
       "      <td>1076</td>\n",
       "    </tr>\n",
       "  </tbody>\n",
       "</table>\n",
       "</div>"
      ],
      "text/plain": [
       "        state participation_2018  ebrw_2018  math_2018  total_2018\n",
       "0     Alabama                 6%        595        571        1166\n",
       "1      Alaska                43%        562        544        1106\n",
       "2     Arizona                29%        577        572        1149\n",
       "3    Arkansas                 5%        592        576        1169\n",
       "4  California                60%        540        536        1076"
      ]
     },
     "execution_count": 9,
     "metadata": {},
     "output_type": "execute_result"
    }
   ],
   "source": [
    "#rename columns for sat_2018\n",
    "sat_2018 = sat_2018.rename(columns ={\n",
    "    'participation' : 'participation_2018',\n",
    "    'evidence-based reading and writing' : 'ebrw_2018',\n",
    "    'math' : 'math_2018',\n",
    "    'total' : 'total_2018'\n",
    "})\n",
    "sat_2018.head()"
   ]
  },
  {
   "cell_type": "code",
   "execution_count": 10,
   "metadata": {},
   "outputs": [],
   "source": [
    "#change columns to lowercase for sat_2019\n",
    "sat_2019.columns = sat_2019.columns.str.lower()"
   ]
  },
  {
   "cell_type": "code",
   "execution_count": 11,
   "metadata": {},
   "outputs": [
    {
     "data": {
      "text/html": [
       "<div>\n",
       "<style scoped>\n",
       "    .dataframe tbody tr th:only-of-type {\n",
       "        vertical-align: middle;\n",
       "    }\n",
       "\n",
       "    .dataframe tbody tr th {\n",
       "        vertical-align: top;\n",
       "    }\n",
       "\n",
       "    .dataframe thead th {\n",
       "        text-align: right;\n",
       "    }\n",
       "</style>\n",
       "<table border=\"1\" class=\"dataframe\">\n",
       "  <thead>\n",
       "    <tr style=\"text-align: right;\">\n",
       "      <th></th>\n",
       "      <th>state</th>\n",
       "      <th>participation_2019</th>\n",
       "      <th>ebrw_2019</th>\n",
       "      <th>math_2019</th>\n",
       "      <th>total_2019</th>\n",
       "    </tr>\n",
       "  </thead>\n",
       "  <tbody>\n",
       "    <tr>\n",
       "      <th>0</th>\n",
       "      <td>Alabama</td>\n",
       "      <td>7%</td>\n",
       "      <td>583</td>\n",
       "      <td>560</td>\n",
       "      <td>1143</td>\n",
       "    </tr>\n",
       "    <tr>\n",
       "      <th>1</th>\n",
       "      <td>Alaska</td>\n",
       "      <td>41%</td>\n",
       "      <td>556</td>\n",
       "      <td>541</td>\n",
       "      <td>1097</td>\n",
       "    </tr>\n",
       "    <tr>\n",
       "      <th>2</th>\n",
       "      <td>Arizona</td>\n",
       "      <td>31%</td>\n",
       "      <td>569</td>\n",
       "      <td>565</td>\n",
       "      <td>1134</td>\n",
       "    </tr>\n",
       "    <tr>\n",
       "      <th>3</th>\n",
       "      <td>Arkansas</td>\n",
       "      <td>6%</td>\n",
       "      <td>582</td>\n",
       "      <td>559</td>\n",
       "      <td>1141</td>\n",
       "    </tr>\n",
       "    <tr>\n",
       "      <th>4</th>\n",
       "      <td>California</td>\n",
       "      <td>63%</td>\n",
       "      <td>534</td>\n",
       "      <td>531</td>\n",
       "      <td>1065</td>\n",
       "    </tr>\n",
       "  </tbody>\n",
       "</table>\n",
       "</div>"
      ],
      "text/plain": [
       "        state participation_2019  ebrw_2019  math_2019  total_2019\n",
       "0     Alabama                 7%        583        560        1143\n",
       "1      Alaska                41%        556        541        1097\n",
       "2     Arizona                31%        569        565        1134\n",
       "3    Arkansas                 6%        582        559        1141\n",
       "4  California                63%        534        531        1065"
      ]
     },
     "execution_count": 11,
     "metadata": {},
     "output_type": "execute_result"
    }
   ],
   "source": [
    "#rename: to align columns for both sat_2019 sat_2018\n",
    "sat_2019 = sat_2019.rename(columns={\n",
    "    'participation rate' : 'participation_2019',\n",
    "    'ebrw' : 'ebrw_2019',\n",
    "    'math' : 'math_2019',\n",
    "    'total' : 'total_2019'\n",
    "})\n",
    "sat_2019.head()"
   ]
  },
  {
   "cell_type": "code",
   "execution_count": 12,
   "metadata": {},
   "outputs": [
    {
     "name": "stdout",
     "output_type": "stream",
     "text": [
      "<class 'pandas.core.frame.DataFrame'>\n",
      "RangeIndex: 51 entries, 0 to 50\n",
      "Data columns (total 5 columns):\n",
      " #   Column              Non-Null Count  Dtype \n",
      "---  ------              --------------  ----- \n",
      " 0   state               51 non-null     object\n",
      " 1   participation_2018  51 non-null     object\n",
      " 2   ebrw_2018           51 non-null     int64 \n",
      " 3   math_2018           51 non-null     int64 \n",
      " 4   total_2018          51 non-null     int64 \n",
      "dtypes: int64(3), object(2)\n",
      "memory usage: 2.1+ KB\n"
     ]
    }
   ],
   "source": [
    "#summary of sat_2018\n",
    "sat_2018.info()"
   ]
  },
  {
   "cell_type": "code",
   "execution_count": 13,
   "metadata": {},
   "outputs": [
    {
     "name": "stdout",
     "output_type": "stream",
     "text": [
      "<class 'pandas.core.frame.DataFrame'>\n",
      "RangeIndex: 53 entries, 0 to 52\n",
      "Data columns (total 5 columns):\n",
      " #   Column              Non-Null Count  Dtype \n",
      "---  ------              --------------  ----- \n",
      " 0   state               53 non-null     object\n",
      " 1   participation_2019  53 non-null     object\n",
      " 2   ebrw_2019           53 non-null     int64 \n",
      " 3   math_2019           53 non-null     int64 \n",
      " 4   total_2019          53 non-null     int64 \n",
      "dtypes: int64(3), object(2)\n",
      "memory usage: 2.2+ KB\n"
     ]
    }
   ],
   "source": [
    "#summary of sat_2019\n",
    "sat_2019.info()"
   ]
  },
  {
   "cell_type": "code",
   "execution_count": 14,
   "metadata": {},
   "outputs": [
    {
     "data": {
      "text/plain": [
       "state                 0\n",
       "participation_2018    0\n",
       "ebrw_2018             0\n",
       "math_2018             0\n",
       "total_2018            0\n",
       "dtype: int64"
      ]
     },
     "execution_count": 14,
     "metadata": {},
     "output_type": "execute_result"
    }
   ],
   "source": [
    "#verify for any missing values for sat_2018\n",
    "sat_2018.isna().sum()"
   ]
  },
  {
   "cell_type": "code",
   "execution_count": 15,
   "metadata": {
    "scrolled": true
   },
   "outputs": [
    {
     "data": {
      "text/plain": [
       "state                 0\n",
       "participation_2019    0\n",
       "ebrw_2019             0\n",
       "math_2019             0\n",
       "total_2019            0\n",
       "dtype: int64"
      ]
     },
     "execution_count": 15,
     "metadata": {},
     "output_type": "execute_result"
    }
   ],
   "source": [
    "#verify for any missing values for sat_2019\n",
    "sat_2019.isna().sum()"
   ]
  },
  {
   "cell_type": "markdown",
   "metadata": {},
   "source": [
    "#### <ins>checks for 2018"
   ]
  },
  {
   "cell_type": "code",
   "execution_count": 16,
   "metadata": {},
   "outputs": [
    {
     "data": {
      "text/plain": [
       "0"
      ]
     },
     "execution_count": 16,
     "metadata": {},
     "output_type": "execute_result"
    }
   ],
   "source": [
    "#sat_2018, check any of the scores under 'ebrw' are out of range (200 to 800) \n",
    "sat_2018[(sat_2018['ebrw_2018'] < 200 | sat_2018['ebrw_2018']) > 800]['ebrw_2018'].count()"
   ]
  },
  {
   "cell_type": "code",
   "execution_count": 17,
   "metadata": {},
   "outputs": [
    {
     "data": {
      "text/plain": [
       "0"
      ]
     },
     "execution_count": 17,
     "metadata": {},
     "output_type": "execute_result"
    }
   ],
   "source": [
    "#similarly for 'math'\n",
    "sat_2018[(sat_2018['math_2018'] < 200 | sat_2018['math_2018']) > 800]['math_2018'].count()"
   ]
  },
  {
   "cell_type": "code",
   "execution_count": 18,
   "metadata": {},
   "outputs": [
    {
     "data": {
      "text/html": [
       "<div>\n",
       "<style scoped>\n",
       "    .dataframe tbody tr th:only-of-type {\n",
       "        vertical-align: middle;\n",
       "    }\n",
       "\n",
       "    .dataframe tbody tr th {\n",
       "        vertical-align: top;\n",
       "    }\n",
       "\n",
       "    .dataframe thead th {\n",
       "        text-align: right;\n",
       "    }\n",
       "</style>\n",
       "<table border=\"1\" class=\"dataframe\">\n",
       "  <thead>\n",
       "    <tr style=\"text-align: right;\">\n",
       "      <th></th>\n",
       "      <th>state</th>\n",
       "      <th>participation_2018</th>\n",
       "      <th>ebrw_2018</th>\n",
       "      <th>math_2018</th>\n",
       "      <th>total_2018</th>\n",
       "    </tr>\n",
       "  </thead>\n",
       "  <tbody>\n",
       "    <tr>\n",
       "      <th>3</th>\n",
       "      <td>Arkansas</td>\n",
       "      <td>5%</td>\n",
       "      <td>592</td>\n",
       "      <td>576</td>\n",
       "      <td>1169</td>\n",
       "    </tr>\n",
       "    <tr>\n",
       "      <th>6</th>\n",
       "      <td>Connecticut</td>\n",
       "      <td>100%</td>\n",
       "      <td>535</td>\n",
       "      <td>519</td>\n",
       "      <td>1053</td>\n",
       "    </tr>\n",
       "    <tr>\n",
       "      <th>7</th>\n",
       "      <td>Delaware</td>\n",
       "      <td>100%</td>\n",
       "      <td>505</td>\n",
       "      <td>492</td>\n",
       "      <td>998</td>\n",
       "    </tr>\n",
       "    <tr>\n",
       "      <th>16</th>\n",
       "      <td>Kansas</td>\n",
       "      <td>4%</td>\n",
       "      <td>633</td>\n",
       "      <td>631</td>\n",
       "      <td>1265</td>\n",
       "    </tr>\n",
       "    <tr>\n",
       "      <th>22</th>\n",
       "      <td>Michigan</td>\n",
       "      <td>100%</td>\n",
       "      <td>511</td>\n",
       "      <td>499</td>\n",
       "      <td>1011</td>\n",
       "    </tr>\n",
       "    <tr>\n",
       "      <th>31</th>\n",
       "      <td>New Mexico</td>\n",
       "      <td>16%</td>\n",
       "      <td>552</td>\n",
       "      <td>540</td>\n",
       "      <td>1093</td>\n",
       "    </tr>\n",
       "    <tr>\n",
       "      <th>33</th>\n",
       "      <td>North Carolina</td>\n",
       "      <td>52%</td>\n",
       "      <td>554</td>\n",
       "      <td>543</td>\n",
       "      <td>1098</td>\n",
       "    </tr>\n",
       "    <tr>\n",
       "      <th>45</th>\n",
       "      <td>Vermont</td>\n",
       "      <td>64%</td>\n",
       "      <td>565</td>\n",
       "      <td>554</td>\n",
       "      <td>1120</td>\n",
       "    </tr>\n",
       "    <tr>\n",
       "      <th>50</th>\n",
       "      <td>Wyoming</td>\n",
       "      <td>3%</td>\n",
       "      <td>633</td>\n",
       "      <td>625</td>\n",
       "      <td>1257</td>\n",
       "    </tr>\n",
       "  </tbody>\n",
       "</table>\n",
       "</div>"
      ],
      "text/plain": [
       "             state participation_2018  ebrw_2018  math_2018  total_2018\n",
       "3         Arkansas                 5%        592        576        1169\n",
       "6      Connecticut               100%        535        519        1053\n",
       "7         Delaware               100%        505        492         998\n",
       "16          Kansas                 4%        633        631        1265\n",
       "22        Michigan               100%        511        499        1011\n",
       "31      New Mexico                16%        552        540        1093\n",
       "33  North Carolina                52%        554        543        1098\n",
       "45         Vermont                64%        565        554        1120\n",
       "50         Wyoming                 3%        633        625        1257"
      ]
     },
     "execution_count": 18,
     "metadata": {},
     "output_type": "execute_result"
    }
   ],
   "source": [
    "#to check and verify on the the sum of 'erbw' + 'math' is equal to 'total'\n",
    "#list out those summations that are incorrect\n",
    "sat_2018[(sat_2018['ebrw_2018'] + sat_2018['math_2018']) != sat_2018['total_2018']]"
   ]
  },
  {
   "cell_type": "code",
   "execution_count": 19,
   "metadata": {},
   "outputs": [],
   "source": [
    "#assuming the total is wrong, update column 'total_2018'\n",
    "sat_2018['total_2018'] = sat_2018['ebrw_2018'] + sat_2018['math_2018']"
   ]
  },
  {
   "cell_type": "code",
   "execution_count": 20,
   "metadata": {},
   "outputs": [
    {
     "data": {
      "text/plain": [
       "0"
      ]
     },
     "execution_count": 20,
     "metadata": {},
     "output_type": "execute_result"
    }
   ],
   "source": [
    "#check any of the scores are incorrect\n",
    "sat_2018[(sat_2018['ebrw_2018'] + sat_2018['math_2018']) != sat_2018['total_2018']]['total_2018'].count()"
   ]
  },
  {
   "cell_type": "code",
   "execution_count": 21,
   "metadata": {},
   "outputs": [],
   "source": [
    "#convert str to float and remove %\n",
    "def conv(data):\n",
    "    return (float(data.strip('%'))/100)\n",
    "\n",
    "sat_2018['participation_2018'] = sat_2018['participation_2018'].apply(conv)"
   ]
  },
  {
   "cell_type": "code",
   "execution_count": 22,
   "metadata": {},
   "outputs": [
    {
     "data": {
      "text/html": [
       "<div>\n",
       "<style scoped>\n",
       "    .dataframe tbody tr th:only-of-type {\n",
       "        vertical-align: middle;\n",
       "    }\n",
       "\n",
       "    .dataframe tbody tr th {\n",
       "        vertical-align: top;\n",
       "    }\n",
       "\n",
       "    .dataframe thead th {\n",
       "        text-align: right;\n",
       "    }\n",
       "</style>\n",
       "<table border=\"1\" class=\"dataframe\">\n",
       "  <thead>\n",
       "    <tr style=\"text-align: right;\">\n",
       "      <th></th>\n",
       "      <th>state</th>\n",
       "      <th>participation_2018</th>\n",
       "      <th>ebrw_2018</th>\n",
       "      <th>math_2018</th>\n",
       "      <th>total_2018</th>\n",
       "    </tr>\n",
       "  </thead>\n",
       "  <tbody>\n",
       "    <tr>\n",
       "      <th>0</th>\n",
       "      <td>Alabama</td>\n",
       "      <td>0.06</td>\n",
       "      <td>595</td>\n",
       "      <td>571</td>\n",
       "      <td>1166</td>\n",
       "    </tr>\n",
       "    <tr>\n",
       "      <th>1</th>\n",
       "      <td>Alaska</td>\n",
       "      <td>0.43</td>\n",
       "      <td>562</td>\n",
       "      <td>544</td>\n",
       "      <td>1106</td>\n",
       "    </tr>\n",
       "    <tr>\n",
       "      <th>2</th>\n",
       "      <td>Arizona</td>\n",
       "      <td>0.29</td>\n",
       "      <td>577</td>\n",
       "      <td>572</td>\n",
       "      <td>1149</td>\n",
       "    </tr>\n",
       "    <tr>\n",
       "      <th>3</th>\n",
       "      <td>Arkansas</td>\n",
       "      <td>0.05</td>\n",
       "      <td>592</td>\n",
       "      <td>576</td>\n",
       "      <td>1168</td>\n",
       "    </tr>\n",
       "    <tr>\n",
       "      <th>4</th>\n",
       "      <td>California</td>\n",
       "      <td>0.60</td>\n",
       "      <td>540</td>\n",
       "      <td>536</td>\n",
       "      <td>1076</td>\n",
       "    </tr>\n",
       "  </tbody>\n",
       "</table>\n",
       "</div>"
      ],
      "text/plain": [
       "        state  participation_2018  ebrw_2018  math_2018  total_2018\n",
       "0     Alabama                0.06        595        571        1166\n",
       "1      Alaska                0.43        562        544        1106\n",
       "2     Arizona                0.29        577        572        1149\n",
       "3    Arkansas                0.05        592        576        1168\n",
       "4  California                0.60        540        536        1076"
      ]
     },
     "execution_count": 22,
     "metadata": {},
     "output_type": "execute_result"
    }
   ],
   "source": [
    "#to verify the participation rates are in decimals\n",
    "sat_2018.head()"
   ]
  },
  {
   "cell_type": "markdown",
   "metadata": {},
   "source": [
    "#### <ins>checks for 2019\n"
   ]
  },
  {
   "cell_type": "code",
   "execution_count": 23,
   "metadata": {},
   "outputs": [
    {
     "data": {
      "text/plain": [
       "0"
      ]
     },
     "execution_count": 23,
     "metadata": {},
     "output_type": "execute_result"
    }
   ],
   "source": [
    "#sat_2019, check any of the scores under 'ebrw' are out of range (200 to 800) \n",
    "sat_2019[(sat_2019['ebrw_2019'] < 200 | sat_2019['ebrw_2019']) > 800]['ebrw_2019'].count()"
   ]
  },
  {
   "cell_type": "code",
   "execution_count": 24,
   "metadata": {},
   "outputs": [
    {
     "data": {
      "text/plain": [
       "0"
      ]
     },
     "execution_count": 24,
     "metadata": {},
     "output_type": "execute_result"
    }
   ],
   "source": [
    "#similarly for 'math'\n",
    "sat_2019[(sat_2019['math_2019'] < 200 | sat_2019['math_2019']) > 800]['math_2019'].count()"
   ]
  },
  {
   "cell_type": "code",
   "execution_count": 25,
   "metadata": {},
   "outputs": [
    {
     "data": {
      "text/html": [
       "<div>\n",
       "<style scoped>\n",
       "    .dataframe tbody tr th:only-of-type {\n",
       "        vertical-align: middle;\n",
       "    }\n",
       "\n",
       "    .dataframe tbody tr th {\n",
       "        vertical-align: top;\n",
       "    }\n",
       "\n",
       "    .dataframe thead th {\n",
       "        text-align: right;\n",
       "    }\n",
       "</style>\n",
       "<table border=\"1\" class=\"dataframe\">\n",
       "  <thead>\n",
       "    <tr style=\"text-align: right;\">\n",
       "      <th></th>\n",
       "      <th>state</th>\n",
       "      <th>participation_2019</th>\n",
       "      <th>ebrw_2019</th>\n",
       "      <th>math_2019</th>\n",
       "      <th>total_2019</th>\n",
       "    </tr>\n",
       "  </thead>\n",
       "  <tbody>\n",
       "    <tr>\n",
       "      <th>6</th>\n",
       "      <td>Connecticut</td>\n",
       "      <td>100%</td>\n",
       "      <td>529</td>\n",
       "      <td>516</td>\n",
       "      <td>1046</td>\n",
       "    </tr>\n",
       "    <tr>\n",
       "      <th>10</th>\n",
       "      <td>Georgia</td>\n",
       "      <td>71%</td>\n",
       "      <td>538</td>\n",
       "      <td>519</td>\n",
       "      <td>1058</td>\n",
       "    </tr>\n",
       "    <tr>\n",
       "      <th>18</th>\n",
       "      <td>Louisiana</td>\n",
       "      <td>5%</td>\n",
       "      <td>610</td>\n",
       "      <td>591</td>\n",
       "      <td>1200</td>\n",
       "    </tr>\n",
       "    <tr>\n",
       "      <th>19</th>\n",
       "      <td>Maine</td>\n",
       "      <td>99%</td>\n",
       "      <td>512</td>\n",
       "      <td>502</td>\n",
       "      <td>1013</td>\n",
       "    </tr>\n",
       "    <tr>\n",
       "      <th>24</th>\n",
       "      <td>Mississippi</td>\n",
       "      <td>3%</td>\n",
       "      <td>628</td>\n",
       "      <td>608</td>\n",
       "      <td>1237</td>\n",
       "    </tr>\n",
       "    <tr>\n",
       "      <th>25</th>\n",
       "      <td>Missouri</td>\n",
       "      <td>4%</td>\n",
       "      <td>622</td>\n",
       "      <td>615</td>\n",
       "      <td>1236</td>\n",
       "    </tr>\n",
       "    <tr>\n",
       "      <th>27</th>\n",
       "      <td>Nebraska</td>\n",
       "      <td>3%</td>\n",
       "      <td>628</td>\n",
       "      <td>631</td>\n",
       "      <td>1260</td>\n",
       "    </tr>\n",
       "    <tr>\n",
       "      <th>30</th>\n",
       "      <td>New Jersey</td>\n",
       "      <td>82%</td>\n",
       "      <td>544</td>\n",
       "      <td>545</td>\n",
       "      <td>1090</td>\n",
       "    </tr>\n",
       "    <tr>\n",
       "      <th>35</th>\n",
       "      <td>Ohio</td>\n",
       "      <td>19%</td>\n",
       "      <td>550</td>\n",
       "      <td>548</td>\n",
       "      <td>1097</td>\n",
       "    </tr>\n",
       "    <tr>\n",
       "      <th>36</th>\n",
       "      <td>Oklahoma</td>\n",
       "      <td>22%</td>\n",
       "      <td>490</td>\n",
       "      <td>472</td>\n",
       "      <td>963</td>\n",
       "    </tr>\n",
       "    <tr>\n",
       "      <th>39</th>\n",
       "      <td>Puerto Rico</td>\n",
       "      <td>—</td>\n",
       "      <td>483</td>\n",
       "      <td>462</td>\n",
       "      <td>944</td>\n",
       "    </tr>\n",
       "    <tr>\n",
       "      <th>45</th>\n",
       "      <td>Utah</td>\n",
       "      <td>4%</td>\n",
       "      <td>614</td>\n",
       "      <td>615</td>\n",
       "      <td>1230</td>\n",
       "    </tr>\n",
       "    <tr>\n",
       "      <th>48</th>\n",
       "      <td>Virginia</td>\n",
       "      <td>68%</td>\n",
       "      <td>567</td>\n",
       "      <td>551</td>\n",
       "      <td>1119</td>\n",
       "    </tr>\n",
       "  </tbody>\n",
       "</table>\n",
       "</div>"
      ],
      "text/plain": [
       "          state participation_2019  ebrw_2019  math_2019  total_2019\n",
       "6   Connecticut               100%        529        516        1046\n",
       "10      Georgia                71%        538        519        1058\n",
       "18    Louisiana                 5%        610        591        1200\n",
       "19        Maine                99%        512        502        1013\n",
       "24  Mississippi                 3%        628        608        1237\n",
       "25     Missouri                 4%        622        615        1236\n",
       "27     Nebraska                 3%        628        631        1260\n",
       "30   New Jersey                82%        544        545        1090\n",
       "35         Ohio                19%        550        548        1097\n",
       "36     Oklahoma                22%        490        472         963\n",
       "39  Puerto Rico                  —        483        462         944\n",
       "45         Utah                 4%        614        615        1230\n",
       "48     Virginia                68%        567        551        1119"
      ]
     },
     "execution_count": 25,
     "metadata": {},
     "output_type": "execute_result"
    }
   ],
   "source": [
    "#to check and verify on the the sum of 'erbw' + 'math' is equal to 'total'\n",
    "#list out those summations that are incorrect\n",
    "sat_2019[(sat_2019['ebrw_2019'] + sat_2019['math_2019']) != sat_2019['total_2019']]"
   ]
  },
  {
   "cell_type": "code",
   "execution_count": 26,
   "metadata": {},
   "outputs": [],
   "source": [
    "#assuming the total is wrong, update 'total_2019'\n",
    "sat_2019['total_2019'] = sat_2019['ebrw_2019'] + sat_2019['math_2019']"
   ]
  },
  {
   "cell_type": "code",
   "execution_count": 27,
   "metadata": {},
   "outputs": [
    {
     "data": {
      "text/plain": [
       "0"
      ]
     },
     "execution_count": 27,
     "metadata": {},
     "output_type": "execute_result"
    }
   ],
   "source": [
    "#check any of the summations are incorrect\n",
    "sat_2019[(sat_2019['ebrw_2019'] + sat_2019['math_2019']) != sat_2019['total_2019']]['total_2019'].count()"
   ]
  },
  {
   "cell_type": "code",
   "execution_count": 28,
   "metadata": {},
   "outputs": [
    {
     "data": {
      "text/html": [
       "<div>\n",
       "<style scoped>\n",
       "    .dataframe tbody tr th:only-of-type {\n",
       "        vertical-align: middle;\n",
       "    }\n",
       "\n",
       "    .dataframe tbody tr th {\n",
       "        vertical-align: top;\n",
       "    }\n",
       "\n",
       "    .dataframe thead th {\n",
       "        text-align: right;\n",
       "    }\n",
       "</style>\n",
       "<table border=\"1\" class=\"dataframe\">\n",
       "  <thead>\n",
       "    <tr style=\"text-align: right;\">\n",
       "      <th></th>\n",
       "      <th>state</th>\n",
       "      <th>participation_2019</th>\n",
       "      <th>ebrw_2019</th>\n",
       "      <th>math_2019</th>\n",
       "      <th>total_2019</th>\n",
       "    </tr>\n",
       "  </thead>\n",
       "  <tbody>\n",
       "    <tr>\n",
       "      <th>39</th>\n",
       "      <td>Puerto Rico</td>\n",
       "      <td>—</td>\n",
       "      <td>483</td>\n",
       "      <td>462</td>\n",
       "      <td>945</td>\n",
       "    </tr>\n",
       "    <tr>\n",
       "      <th>47</th>\n",
       "      <td>Virgin Islands</td>\n",
       "      <td>—</td>\n",
       "      <td>490</td>\n",
       "      <td>445</td>\n",
       "      <td>935</td>\n",
       "    </tr>\n",
       "  </tbody>\n",
       "</table>\n",
       "</div>"
      ],
      "text/plain": [
       "             state participation_2019  ebrw_2019  math_2019  total_2019\n",
       "39     Puerto Rico                  —        483        462         945\n",
       "47  Virgin Islands                  —        490        445         935"
      ]
     },
     "execution_count": 28,
     "metadata": {},
     "output_type": "execute_result"
    }
   ],
   "source": [
    "#filter column participation_2019 with str '—'\n",
    "sat_2019[sat_2019['participation_2019'] == '—']"
   ]
  },
  {
   "cell_type": "code",
   "execution_count": 29,
   "metadata": {},
   "outputs": [],
   "source": [
    "#to remove Putero Rico and Virgin Islands as they are considered inhabited territories of the United States\n",
    "sat_2019 = sat_2019.drop(labels = [39, 47], axis=0) # remove index 39 and 47"
   ]
  },
  {
   "cell_type": "code",
   "execution_count": 30,
   "metadata": {},
   "outputs": [
    {
     "data": {
      "text/plain": [
       "state                 0\n",
       "participation_2019    0\n",
       "ebrw_2019             0\n",
       "math_2019             0\n",
       "total_2019            0\n",
       "dtype: int64"
      ]
     },
     "execution_count": 30,
     "metadata": {},
     "output_type": "execute_result"
    }
   ],
   "source": [
    "#to confirm on the selected states being removed\n",
    "sat_2019[(sat_2019['state'] == \"Putero Rice\") | (sat_2019['state'] == 'Virgin Islands')].count()"
   ]
  },
  {
   "cell_type": "code",
   "execution_count": 31,
   "metadata": {},
   "outputs": [],
   "source": [
    "#convert str to float \n",
    "def conv(data):\n",
    "    return (float(data.strip('%'))/100)\n",
    "\n",
    "sat_2019['participation_2019'] = sat_2019['participation_2019'].apply(conv)"
   ]
  },
  {
   "cell_type": "code",
   "execution_count": 32,
   "metadata": {},
   "outputs": [
    {
     "data": {
      "text/html": [
       "<div>\n",
       "<style scoped>\n",
       "    .dataframe tbody tr th:only-of-type {\n",
       "        vertical-align: middle;\n",
       "    }\n",
       "\n",
       "    .dataframe tbody tr th {\n",
       "        vertical-align: top;\n",
       "    }\n",
       "\n",
       "    .dataframe thead th {\n",
       "        text-align: right;\n",
       "    }\n",
       "</style>\n",
       "<table border=\"1\" class=\"dataframe\">\n",
       "  <thead>\n",
       "    <tr style=\"text-align: right;\">\n",
       "      <th></th>\n",
       "      <th>state</th>\n",
       "      <th>participation_2019</th>\n",
       "      <th>ebrw_2019</th>\n",
       "      <th>math_2019</th>\n",
       "      <th>total_2019</th>\n",
       "    </tr>\n",
       "  </thead>\n",
       "  <tbody>\n",
       "    <tr>\n",
       "      <th>0</th>\n",
       "      <td>Alabama</td>\n",
       "      <td>0.07</td>\n",
       "      <td>583</td>\n",
       "      <td>560</td>\n",
       "      <td>1143</td>\n",
       "    </tr>\n",
       "    <tr>\n",
       "      <th>1</th>\n",
       "      <td>Alaska</td>\n",
       "      <td>0.41</td>\n",
       "      <td>556</td>\n",
       "      <td>541</td>\n",
       "      <td>1097</td>\n",
       "    </tr>\n",
       "    <tr>\n",
       "      <th>2</th>\n",
       "      <td>Arizona</td>\n",
       "      <td>0.31</td>\n",
       "      <td>569</td>\n",
       "      <td>565</td>\n",
       "      <td>1134</td>\n",
       "    </tr>\n",
       "    <tr>\n",
       "      <th>3</th>\n",
       "      <td>Arkansas</td>\n",
       "      <td>0.06</td>\n",
       "      <td>582</td>\n",
       "      <td>559</td>\n",
       "      <td>1141</td>\n",
       "    </tr>\n",
       "    <tr>\n",
       "      <th>4</th>\n",
       "      <td>California</td>\n",
       "      <td>0.63</td>\n",
       "      <td>534</td>\n",
       "      <td>531</td>\n",
       "      <td>1065</td>\n",
       "    </tr>\n",
       "  </tbody>\n",
       "</table>\n",
       "</div>"
      ],
      "text/plain": [
       "        state  participation_2019  ebrw_2019  math_2019  total_2019\n",
       "0     Alabama                0.07        583        560        1143\n",
       "1      Alaska                0.41        556        541        1097\n",
       "2     Arizona                0.31        569        565        1134\n",
       "3    Arkansas                0.06        582        559        1141\n",
       "4  California                0.63        534        531        1065"
      ]
     },
     "execution_count": 32,
     "metadata": {},
     "output_type": "execute_result"
    }
   ],
   "source": [
    "#to verify the participation rates are in decimals\n",
    "sat_2019.head()"
   ]
  },
  {
   "cell_type": "markdown",
   "metadata": {},
   "source": [
    "#### <ins>new file : total_spending file"
   ]
  },
  {
   "cell_type": "code",
   "execution_count": 33,
   "metadata": {},
   "outputs": [
    {
     "data": {
      "text/html": [
       "<div>\n",
       "<style scoped>\n",
       "    .dataframe tbody tr th:only-of-type {\n",
       "        vertical-align: middle;\n",
       "    }\n",
       "\n",
       "    .dataframe tbody tr th {\n",
       "        vertical-align: top;\n",
       "    }\n",
       "\n",
       "    .dataframe thead th {\n",
       "        text-align: right;\n",
       "    }\n",
       "</style>\n",
       "<table border=\"1\" class=\"dataframe\">\n",
       "  <thead>\n",
       "    <tr style=\"text-align: right;\">\n",
       "      <th></th>\n",
       "      <th>State</th>\n",
       "      <th>Code</th>\n",
       "      <th>2018</th>\n",
       "      <th>2019</th>\n",
       "    </tr>\n",
       "  </thead>\n",
       "  <tbody>\n",
       "    <tr>\n",
       "      <th>0</th>\n",
       "      <td>Alabama</td>\n",
       "      <td>AL</td>\n",
       "      <td>9696.181213</td>\n",
       "      <td>10076.588580</td>\n",
       "    </tr>\n",
       "    <tr>\n",
       "      <th>1</th>\n",
       "      <td>Alaska</td>\n",
       "      <td>AK</td>\n",
       "      <td>17725.939250</td>\n",
       "      <td>18393.569180</td>\n",
       "    </tr>\n",
       "    <tr>\n",
       "      <th>2</th>\n",
       "      <td>Arizona</td>\n",
       "      <td>AZ</td>\n",
       "      <td>8254.797509</td>\n",
       "      <td>8625.472268</td>\n",
       "    </tr>\n",
       "    <tr>\n",
       "      <th>3</th>\n",
       "      <td>Arkansas</td>\n",
       "      <td>AR</td>\n",
       "      <td>10138.680600</td>\n",
       "      <td>10387.818430</td>\n",
       "    </tr>\n",
       "    <tr>\n",
       "      <th>4</th>\n",
       "      <td>California</td>\n",
       "      <td>CA</td>\n",
       "      <td>12142.715060</td>\n",
       "      <td>14034.943480</td>\n",
       "    </tr>\n",
       "  </tbody>\n",
       "</table>\n",
       "</div>"
      ],
      "text/plain": [
       "        State Code          2018          2019\n",
       "0     Alabama   AL   9696.181213  10076.588580\n",
       "1      Alaska   AK  17725.939250  18393.569180\n",
       "2     Arizona   AZ   8254.797509   8625.472268\n",
       "3    Arkansas   AR  10138.680600  10387.818430\n",
       "4  California   CA  12142.715060  14034.943480"
      ]
     },
     "execution_count": 33,
     "metadata": {},
     "output_type": "execute_result"
    }
   ],
   "source": [
    "#display top 5 row\n",
    "total_spending.head()"
   ]
  },
  {
   "cell_type": "code",
   "execution_count": 34,
   "metadata": {},
   "outputs": [
    {
     "name": "stdout",
     "output_type": "stream",
     "text": [
      "<class 'pandas.core.frame.DataFrame'>\n",
      "RangeIndex: 51 entries, 0 to 50\n",
      "Data columns (total 4 columns):\n",
      " #   Column  Non-Null Count  Dtype  \n",
      "---  ------  --------------  -----  \n",
      " 0   State   51 non-null     object \n",
      " 1   Code    51 non-null     object \n",
      " 2   2018    51 non-null     float64\n",
      " 3   2019    51 non-null     float64\n",
      "dtypes: float64(2), object(2)\n",
      "memory usage: 1.7+ KB\n"
     ]
    }
   ],
   "source": [
    "#view summary\n",
    "total_spending.info()"
   ]
  },
  {
   "cell_type": "code",
   "execution_count": 35,
   "metadata": {},
   "outputs": [
    {
     "data": {
      "text/html": [
       "<div>\n",
       "<style scoped>\n",
       "    .dataframe tbody tr th:only-of-type {\n",
       "        vertical-align: middle;\n",
       "    }\n",
       "\n",
       "    .dataframe tbody tr th {\n",
       "        vertical-align: top;\n",
       "    }\n",
       "\n",
       "    .dataframe thead th {\n",
       "        text-align: right;\n",
       "    }\n",
       "</style>\n",
       "<table border=\"1\" class=\"dataframe\">\n",
       "  <thead>\n",
       "    <tr style=\"text-align: right;\">\n",
       "      <th></th>\n",
       "      <th>State</th>\n",
       "      <th>Code</th>\n",
       "      <th>funding_2018</th>\n",
       "      <th>funding_2019</th>\n",
       "    </tr>\n",
       "  </thead>\n",
       "  <tbody>\n",
       "    <tr>\n",
       "      <th>0</th>\n",
       "      <td>Alabama</td>\n",
       "      <td>AL</td>\n",
       "      <td>9696.181213</td>\n",
       "      <td>10076.588580</td>\n",
       "    </tr>\n",
       "    <tr>\n",
       "      <th>1</th>\n",
       "      <td>Alaska</td>\n",
       "      <td>AK</td>\n",
       "      <td>17725.939250</td>\n",
       "      <td>18393.569180</td>\n",
       "    </tr>\n",
       "    <tr>\n",
       "      <th>2</th>\n",
       "      <td>Arizona</td>\n",
       "      <td>AZ</td>\n",
       "      <td>8254.797509</td>\n",
       "      <td>8625.472268</td>\n",
       "    </tr>\n",
       "    <tr>\n",
       "      <th>3</th>\n",
       "      <td>Arkansas</td>\n",
       "      <td>AR</td>\n",
       "      <td>10138.680600</td>\n",
       "      <td>10387.818430</td>\n",
       "    </tr>\n",
       "    <tr>\n",
       "      <th>4</th>\n",
       "      <td>California</td>\n",
       "      <td>CA</td>\n",
       "      <td>12142.715060</td>\n",
       "      <td>14034.943480</td>\n",
       "    </tr>\n",
       "  </tbody>\n",
       "</table>\n",
       "</div>"
      ],
      "text/plain": [
       "        State Code  funding_2018  funding_2019\n",
       "0     Alabama   AL   9696.181213  10076.588580\n",
       "1      Alaska   AK  17725.939250  18393.569180\n",
       "2     Arizona   AZ   8254.797509   8625.472268\n",
       "3    Arkansas   AR  10138.680600  10387.818430\n",
       "4  California   CA  12142.715060  14034.943480"
      ]
     },
     "execution_count": 35,
     "metadata": {},
     "output_type": "execute_result"
    }
   ],
   "source": [
    "#rename\n",
    "total_spending = total_spending.rename(columns={\n",
    "    '2018' : 'funding_2018',\n",
    "    '2019' : 'funding_2019'\n",
    "})\n",
    "total_spending.head()"
   ]
  },
  {
   "cell_type": "code",
   "execution_count": 36,
   "metadata": {},
   "outputs": [
    {
     "data": {
      "text/html": [
       "<div>\n",
       "<style scoped>\n",
       "    .dataframe tbody tr th:only-of-type {\n",
       "        vertical-align: middle;\n",
       "    }\n",
       "\n",
       "    .dataframe tbody tr th {\n",
       "        vertical-align: top;\n",
       "    }\n",
       "\n",
       "    .dataframe thead th {\n",
       "        text-align: right;\n",
       "    }\n",
       "</style>\n",
       "<table border=\"1\" class=\"dataframe\">\n",
       "  <thead>\n",
       "    <tr style=\"text-align: right;\">\n",
       "      <th></th>\n",
       "      <th>state</th>\n",
       "      <th>code</th>\n",
       "      <th>funding_2018</th>\n",
       "      <th>funding_2019</th>\n",
       "    </tr>\n",
       "  </thead>\n",
       "  <tbody>\n",
       "    <tr>\n",
       "      <th>0</th>\n",
       "      <td>Alabama</td>\n",
       "      <td>AL</td>\n",
       "      <td>9696.181213</td>\n",
       "      <td>10076.588580</td>\n",
       "    </tr>\n",
       "    <tr>\n",
       "      <th>1</th>\n",
       "      <td>Alaska</td>\n",
       "      <td>AK</td>\n",
       "      <td>17725.939250</td>\n",
       "      <td>18393.569180</td>\n",
       "    </tr>\n",
       "    <tr>\n",
       "      <th>2</th>\n",
       "      <td>Arizona</td>\n",
       "      <td>AZ</td>\n",
       "      <td>8254.797509</td>\n",
       "      <td>8625.472268</td>\n",
       "    </tr>\n",
       "    <tr>\n",
       "      <th>3</th>\n",
       "      <td>Arkansas</td>\n",
       "      <td>AR</td>\n",
       "      <td>10138.680600</td>\n",
       "      <td>10387.818430</td>\n",
       "    </tr>\n",
       "    <tr>\n",
       "      <th>4</th>\n",
       "      <td>California</td>\n",
       "      <td>CA</td>\n",
       "      <td>12142.715060</td>\n",
       "      <td>14034.943480</td>\n",
       "    </tr>\n",
       "  </tbody>\n",
       "</table>\n",
       "</div>"
      ],
      "text/plain": [
       "        state code  funding_2018  funding_2019\n",
       "0     Alabama   AL   9696.181213  10076.588580\n",
       "1      Alaska   AK  17725.939250  18393.569180\n",
       "2     Arizona   AZ   8254.797509   8625.472268\n",
       "3    Arkansas   AR  10138.680600  10387.818430\n",
       "4  California   CA  12142.715060  14034.943480"
      ]
     },
     "execution_count": 36,
     "metadata": {},
     "output_type": "execute_result"
    }
   ],
   "source": [
    "#lowercase\n",
    "total_spending.columns = total_spending.columns.str.lower()\n",
    "total_spending.head()"
   ]
  },
  {
   "cell_type": "code",
   "execution_count": 37,
   "metadata": {},
   "outputs": [],
   "source": [
    "#round to 2 decimal place\n",
    "total_spending = total_spending.round({'funding_2018': 2, 'funding_2019' : 2})"
   ]
  },
  {
   "cell_type": "code",
   "execution_count": 38,
   "metadata": {
    "scrolled": true
   },
   "outputs": [
    {
     "data": {
      "text/html": [
       "<div>\n",
       "<style scoped>\n",
       "    .dataframe tbody tr th:only-of-type {\n",
       "        vertical-align: middle;\n",
       "    }\n",
       "\n",
       "    .dataframe tbody tr th {\n",
       "        vertical-align: top;\n",
       "    }\n",
       "\n",
       "    .dataframe thead th {\n",
       "        text-align: right;\n",
       "    }\n",
       "</style>\n",
       "<table border=\"1\" class=\"dataframe\">\n",
       "  <thead>\n",
       "    <tr style=\"text-align: right;\">\n",
       "      <th></th>\n",
       "      <th>state</th>\n",
       "      <th>code</th>\n",
       "      <th>funding_2018</th>\n",
       "      <th>funding_2019</th>\n",
       "    </tr>\n",
       "  </thead>\n",
       "  <tbody>\n",
       "    <tr>\n",
       "      <th>0</th>\n",
       "      <td>Alabama</td>\n",
       "      <td>AL</td>\n",
       "      <td>9696.18</td>\n",
       "      <td>10076.59</td>\n",
       "    </tr>\n",
       "    <tr>\n",
       "      <th>1</th>\n",
       "      <td>Alaska</td>\n",
       "      <td>AK</td>\n",
       "      <td>17725.94</td>\n",
       "      <td>18393.57</td>\n",
       "    </tr>\n",
       "    <tr>\n",
       "      <th>2</th>\n",
       "      <td>Arizona</td>\n",
       "      <td>AZ</td>\n",
       "      <td>8254.80</td>\n",
       "      <td>8625.47</td>\n",
       "    </tr>\n",
       "    <tr>\n",
       "      <th>3</th>\n",
       "      <td>Arkansas</td>\n",
       "      <td>AR</td>\n",
       "      <td>10138.68</td>\n",
       "      <td>10387.82</td>\n",
       "    </tr>\n",
       "    <tr>\n",
       "      <th>4</th>\n",
       "      <td>California</td>\n",
       "      <td>CA</td>\n",
       "      <td>12142.72</td>\n",
       "      <td>14034.94</td>\n",
       "    </tr>\n",
       "  </tbody>\n",
       "</table>\n",
       "</div>"
      ],
      "text/plain": [
       "        state code  funding_2018  funding_2019\n",
       "0     Alabama   AL       9696.18      10076.59\n",
       "1      Alaska   AK      17725.94      18393.57\n",
       "2     Arizona   AZ       8254.80       8625.47\n",
       "3    Arkansas   AR      10138.68      10387.82\n",
       "4  California   CA      12142.72      14034.94"
      ]
     },
     "execution_count": 38,
     "metadata": {},
     "output_type": "execute_result"
    }
   ],
   "source": [
    "#display\n",
    "total_spending.head()"
   ]
  },
  {
   "cell_type": "code",
   "execution_count": 39,
   "metadata": {},
   "outputs": [],
   "source": [
    "#merge all dataframes\n",
    "all_dfs = sat_2018.merge(sat_2019, on = 'state').merge(total_spending, on = 'state')"
   ]
  },
  {
   "cell_type": "code",
   "execution_count": 40,
   "metadata": {},
   "outputs": [],
   "source": [
    "#add column for total scores variance between the two years\n",
    "all_dfs['score_var'] = all_dfs['total_2019'] - all_dfs['total_2018']"
   ]
  },
  {
   "cell_type": "code",
   "execution_count": 41,
   "metadata": {},
   "outputs": [],
   "source": [
    "#add column for funding variance between the two years\n",
    "all_dfs['fund_var'] = all_dfs['funding_2019'] - all_dfs['funding_2018']"
   ]
  },
  {
   "cell_type": "code",
   "execution_count": 42,
   "metadata": {},
   "outputs": [
    {
     "data": {
      "text/html": [
       "<div>\n",
       "<style scoped>\n",
       "    .dataframe tbody tr th:only-of-type {\n",
       "        vertical-align: middle;\n",
       "    }\n",
       "\n",
       "    .dataframe tbody tr th {\n",
       "        vertical-align: top;\n",
       "    }\n",
       "\n",
       "    .dataframe thead th {\n",
       "        text-align: right;\n",
       "    }\n",
       "</style>\n",
       "<table border=\"1\" class=\"dataframe\">\n",
       "  <thead>\n",
       "    <tr style=\"text-align: right;\">\n",
       "      <th></th>\n",
       "      <th>state</th>\n",
       "      <th>participation_2018</th>\n",
       "      <th>ebrw_2018</th>\n",
       "      <th>math_2018</th>\n",
       "      <th>total_2018</th>\n",
       "      <th>participation_2019</th>\n",
       "      <th>ebrw_2019</th>\n",
       "      <th>math_2019</th>\n",
       "      <th>total_2019</th>\n",
       "      <th>code</th>\n",
       "      <th>funding_2018</th>\n",
       "      <th>funding_2019</th>\n",
       "      <th>score_var</th>\n",
       "      <th>fund_var</th>\n",
       "    </tr>\n",
       "  </thead>\n",
       "  <tbody>\n",
       "    <tr>\n",
       "      <th>0</th>\n",
       "      <td>Alabama</td>\n",
       "      <td>0.06</td>\n",
       "      <td>595</td>\n",
       "      <td>571</td>\n",
       "      <td>1166</td>\n",
       "      <td>0.07</td>\n",
       "      <td>583</td>\n",
       "      <td>560</td>\n",
       "      <td>1143</td>\n",
       "      <td>AL</td>\n",
       "      <td>9696.18</td>\n",
       "      <td>10076.59</td>\n",
       "      <td>-23</td>\n",
       "      <td>380.41</td>\n",
       "    </tr>\n",
       "    <tr>\n",
       "      <th>1</th>\n",
       "      <td>Alaska</td>\n",
       "      <td>0.43</td>\n",
       "      <td>562</td>\n",
       "      <td>544</td>\n",
       "      <td>1106</td>\n",
       "      <td>0.41</td>\n",
       "      <td>556</td>\n",
       "      <td>541</td>\n",
       "      <td>1097</td>\n",
       "      <td>AK</td>\n",
       "      <td>17725.94</td>\n",
       "      <td>18393.57</td>\n",
       "      <td>-9</td>\n",
       "      <td>667.63</td>\n",
       "    </tr>\n",
       "    <tr>\n",
       "      <th>2</th>\n",
       "      <td>Arizona</td>\n",
       "      <td>0.29</td>\n",
       "      <td>577</td>\n",
       "      <td>572</td>\n",
       "      <td>1149</td>\n",
       "      <td>0.31</td>\n",
       "      <td>569</td>\n",
       "      <td>565</td>\n",
       "      <td>1134</td>\n",
       "      <td>AZ</td>\n",
       "      <td>8254.80</td>\n",
       "      <td>8625.47</td>\n",
       "      <td>-15</td>\n",
       "      <td>370.67</td>\n",
       "    </tr>\n",
       "    <tr>\n",
       "      <th>3</th>\n",
       "      <td>Arkansas</td>\n",
       "      <td>0.05</td>\n",
       "      <td>592</td>\n",
       "      <td>576</td>\n",
       "      <td>1168</td>\n",
       "      <td>0.06</td>\n",
       "      <td>582</td>\n",
       "      <td>559</td>\n",
       "      <td>1141</td>\n",
       "      <td>AR</td>\n",
       "      <td>10138.68</td>\n",
       "      <td>10387.82</td>\n",
       "      <td>-27</td>\n",
       "      <td>249.14</td>\n",
       "    </tr>\n",
       "    <tr>\n",
       "      <th>4</th>\n",
       "      <td>California</td>\n",
       "      <td>0.60</td>\n",
       "      <td>540</td>\n",
       "      <td>536</td>\n",
       "      <td>1076</td>\n",
       "      <td>0.63</td>\n",
       "      <td>534</td>\n",
       "      <td>531</td>\n",
       "      <td>1065</td>\n",
       "      <td>CA</td>\n",
       "      <td>12142.72</td>\n",
       "      <td>14034.94</td>\n",
       "      <td>-11</td>\n",
       "      <td>1892.22</td>\n",
       "    </tr>\n",
       "  </tbody>\n",
       "</table>\n",
       "</div>"
      ],
      "text/plain": [
       "        state  participation_2018  ebrw_2018  math_2018  total_2018  \\\n",
       "0     Alabama                0.06        595        571        1166   \n",
       "1      Alaska                0.43        562        544        1106   \n",
       "2     Arizona                0.29        577        572        1149   \n",
       "3    Arkansas                0.05        592        576        1168   \n",
       "4  California                0.60        540        536        1076   \n",
       "\n",
       "   participation_2019  ebrw_2019  math_2019  total_2019 code  funding_2018  \\\n",
       "0                0.07        583        560        1143   AL       9696.18   \n",
       "1                0.41        556        541        1097   AK      17725.94   \n",
       "2                0.31        569        565        1134   AZ       8254.80   \n",
       "3                0.06        582        559        1141   AR      10138.68   \n",
       "4                0.63        534        531        1065   CA      12142.72   \n",
       "\n",
       "   funding_2019  score_var  fund_var  \n",
       "0      10076.59        -23    380.41  \n",
       "1      18393.57         -9    667.63  \n",
       "2       8625.47        -15    370.67  \n",
       "3      10387.82        -27    249.14  \n",
       "4      14034.94        -11   1892.22  "
      ]
     },
     "execution_count": 42,
     "metadata": {},
     "output_type": "execute_result"
    }
   ],
   "source": [
    "#display top 5\n",
    "all_dfs.head()"
   ]
  },
  {
   "cell_type": "code",
   "execution_count": 43,
   "metadata": {},
   "outputs": [],
   "source": [
    "all_dfs.to_csv('merge_dataframe.csv')"
   ]
  },
  {
   "cell_type": "markdown",
   "metadata": {},
   "source": [
    "### Data Dictionary\n",
    "\n",
    "Now that we've fixed our data, and given it appropriate names, let's create a [data dictionary](http://library.ucmerced.edu/node/10249). \n",
    "\n",
    "A data dictionary provides a quick overview of features/variables/columns, alongside data types and descriptions. The more descriptive you can be, the more useful this document is.\n",
    "\n",
    "Example of a Fictional Data Dictionary Entry: \n",
    "\n",
    "|Feature|Type|Dataset|Description|\n",
    "|---|---|---|---|\n",
    "|**county_pop**|*integer*|2010 census|The population of the county (units in thousands, where 2.5 represents 2500 people).| \n",
    "|**per_poverty**|*float*|2010 census|The percent of the county over the age of 18 living below the 200% of official US poverty rate (units percent to two decimal places 98.10 means 98.1%)|\n",
    "\n",
    "[Here's a quick link to a short guide for formatting markdown in Jupyter notebooks](https://jupyter-notebook.readthedocs.io/en/stable/examples/Notebook/Working%20With%20Markdown%20Cells.html).\n",
    "\n",
    "Provided is the skeleton for formatting a markdown table, with columns headers that will help you create a data dictionary to quickly summarize your data, as well as some examples. **This would be a great thing to copy and paste into your custom README for this project.**\n",
    "\n",
    "*Note*: if you are unsure of what a feature is, check the source of the data! This can be found in the README."
   ]
  },
  {
   "cell_type": "code",
   "execution_count": 44,
   "metadata": {
    "scrolled": false
   },
   "outputs": [
    {
     "name": "stdout",
     "output_type": "stream",
     "text": [
      "<class 'pandas.core.frame.DataFrame'>\n",
      "Int64Index: 51 entries, 0 to 50\n",
      "Data columns (total 14 columns):\n",
      " #   Column              Non-Null Count  Dtype  \n",
      "---  ------              --------------  -----  \n",
      " 0   state               51 non-null     object \n",
      " 1   participation_2018  51 non-null     float64\n",
      " 2   ebrw_2018           51 non-null     int64  \n",
      " 3   math_2018           51 non-null     int64  \n",
      " 4   total_2018          51 non-null     int64  \n",
      " 5   participation_2019  51 non-null     float64\n",
      " 6   ebrw_2019           51 non-null     int64  \n",
      " 7   math_2019           51 non-null     int64  \n",
      " 8   total_2019          51 non-null     int64  \n",
      " 9   code                51 non-null     object \n",
      " 10  funding_2018        51 non-null     float64\n",
      " 11  funding_2019        51 non-null     float64\n",
      " 12  score_var           51 non-null     int64  \n",
      " 13  fund_var            51 non-null     float64\n",
      "dtypes: float64(5), int64(7), object(2)\n",
      "memory usage: 6.0+ KB\n"
     ]
    }
   ],
   "source": [
    "all_dfs.info()"
   ]
  },
  {
   "cell_type": "markdown",
   "metadata": {},
   "source": [
    "**Data Dictionary**\n",
    "\n",
    "|Feature|Type|Dataset|<p align='left'>Description|\n",
    "|---|---|---|---|\n",
    "|state|object|all_dfs|<p align='left'>State in the US and District of Columbia| \n",
    "|participation_2018|float64|all_dfs|<p align='left'>The SAT participation rate in 2018 (units percent to two decimals places 0.06 means 6%)|\n",
    "|ebrw_2018|int64|all_dfs|<p align='left'>The SAT average score of the Evidence-Based Reading and Writing section in 2018 (out of 800)|\n",
    "|math_2018|int64|all_dfs|<p align='left'>The SAT average score of the Mathematics section in 2018 (out of 800)|\n",
    "|total_2018|int64|all_dfs|<p align='left'>The average of the total SAT score in 2018 (out of 1600)|\n",
    "|participation_2019|float64|all_dfs|<p align='left'>The SAT participation rate in 2019 (units percent to two decimals places 0.06 means 6%)|\n",
    "|ebrw_2019|int64|all_dfs|<p align='left'>The SAT average score of the Evidence-Based Reading and Writing section in 2019 (out of 800)|\n",
    "|math_2019|int64|all_dfs|<p align='left'>The SAT average score of the Mathematics section in 2019 (out of 800)|\n",
    "|total_2019|int64|all_dfs|<p align='left'>The average of the total SAT score in 2019 (out of 1600)|\n",
    "|code|object|all_dfs|<p align='left'>The list of US state code|\n",
    "|funding_2018|float64|all_dfs|<p align='left'>The average funding per student by state|\n",
    "|funding_2019|float64|all_dfs|<p align='left'>The average funding per student by state|\n",
    "|score_var|int64|all_dfs|<p align='left'>The SAT average score variance from year 2018 to 2019 per student by state|\n",
    "|fund_var|float64|all_dfs|<p align='left'>The SAT average fund variance from year 2018 to 2019 per student by state|\n"
   ]
  },
  {
   "cell_type": "markdown",
   "metadata": {},
   "source": [
    "## Exploratory Data Analysis\n",
    "\n",
    "Complete the following steps to explore your data. You are welcome to do more EDA than the steps outlined here as you feel necessary:\n",
    "1. Summary Statistics.\n",
    "2. Use a **dictionary comprehension** to apply the standard deviation function you create in part 1 to each numeric column in the dataframe.  **No loops**.\n",
    "    - Assign the output to variable `sd` as a dictionary where: \n",
    "        - Each column name is now a key \n",
    "        - That standard deviation of the column is the value \n",
    "        - *Example Output :* `{'ACT_Math': 120, 'ACT_Reading': 120, ...}`\n",
    "3. Investigate trends in the data.\n",
    "    - Using sorting and/or masking (along with the `.head()` method to avoid printing our entire dataframe), consider questions relevant to your problem statement. Some examples are provided below (but feel free to change these questions for your specific problem):\n",
    "        - Which states have the highest and lowest participation rates for the 2017, 2019, or 2019 SAT and ACT?\n",
    "        - Which states have the highest and lowest mean total/composite scores for the 2017, 2019, or 2019 SAT and ACT?\n",
    "        - Do any states with 100% participation on a given test have a rate change year-to-year?\n",
    "        - Do any states show have >50% participation on *both* tests each year?\n",
    "        - Which colleges have the highest median SAT and ACT scores for admittance?\n",
    "        - Which California school districts have the highest and lowest mean test scores?\n",
    "    - **You should comment on your findings at each step in a markdown cell below your code block**. Make sure you include at least one example of sorting your dataframe by a column, and one example of using boolean filtering (i.e., masking) to select a subset of the dataframe."
   ]
  },
  {
   "cell_type": "code",
   "execution_count": 45,
   "metadata": {
    "scrolled": false
   },
   "outputs": [
    {
     "data": {
      "text/html": [
       "<div>\n",
       "<style scoped>\n",
       "    .dataframe tbody tr th:only-of-type {\n",
       "        vertical-align: middle;\n",
       "    }\n",
       "\n",
       "    .dataframe tbody tr th {\n",
       "        vertical-align: top;\n",
       "    }\n",
       "\n",
       "    .dataframe thead th {\n",
       "        text-align: right;\n",
       "    }\n",
       "</style>\n",
       "<table border=\"1\" class=\"dataframe\">\n",
       "  <thead>\n",
       "    <tr style=\"text-align: right;\">\n",
       "      <th></th>\n",
       "      <th>participation_2018</th>\n",
       "      <th>ebrw_2018</th>\n",
       "      <th>math_2018</th>\n",
       "      <th>total_2018</th>\n",
       "      <th>participation_2019</th>\n",
       "      <th>ebrw_2019</th>\n",
       "      <th>math_2019</th>\n",
       "      <th>total_2019</th>\n",
       "      <th>funding_2018</th>\n",
       "      <th>funding_2019</th>\n",
       "      <th>score_var</th>\n",
       "      <th>fund_var</th>\n",
       "    </tr>\n",
       "  </thead>\n",
       "  <tbody>\n",
       "    <tr>\n",
       "      <th>count</th>\n",
       "      <td>51.000000</td>\n",
       "      <td>51.000000</td>\n",
       "      <td>51.000000</td>\n",
       "      <td>51.000000</td>\n",
       "      <td>51.000000</td>\n",
       "      <td>51.000000</td>\n",
       "      <td>51.000000</td>\n",
       "      <td>51.000000</td>\n",
       "      <td>51.000000</td>\n",
       "      <td>51.000000</td>\n",
       "      <td>51.000000</td>\n",
       "      <td>51.000000</td>\n",
       "    </tr>\n",
       "    <tr>\n",
       "      <th>mean</th>\n",
       "      <td>0.457451</td>\n",
       "      <td>563.686275</td>\n",
       "      <td>556.235294</td>\n",
       "      <td>1119.921569</td>\n",
       "      <td>0.490588</td>\n",
       "      <td>560.803922</td>\n",
       "      <td>552.196078</td>\n",
       "      <td>1113.000000</td>\n",
       "      <td>12907.448235</td>\n",
       "      <td>13381.160784</td>\n",
       "      <td>-6.921569</td>\n",
       "      <td>473.712549</td>\n",
       "    </tr>\n",
       "    <tr>\n",
       "      <th>std</th>\n",
       "      <td>0.373143</td>\n",
       "      <td>47.502627</td>\n",
       "      <td>47.772623</td>\n",
       "      <td>94.189138</td>\n",
       "      <td>0.387476</td>\n",
       "      <td>46.248035</td>\n",
       "      <td>51.290553</td>\n",
       "      <td>97.198148</td>\n",
       "      <td>3836.008526</td>\n",
       "      <td>3933.835412</td>\n",
       "      <td>41.614826</td>\n",
       "      <td>366.468606</td>\n",
       "    </tr>\n",
       "    <tr>\n",
       "      <th>min</th>\n",
       "      <td>0.020000</td>\n",
       "      <td>480.000000</td>\n",
       "      <td>480.000000</td>\n",
       "      <td>977.000000</td>\n",
       "      <td>0.020000</td>\n",
       "      <td>483.000000</td>\n",
       "      <td>460.000000</td>\n",
       "      <td>943.000000</td>\n",
       "      <td>7627.660000</td>\n",
       "      <td>7984.820000</td>\n",
       "      <td>-100.000000</td>\n",
       "      <td>-352.810000</td>\n",
       "    </tr>\n",
       "    <tr>\n",
       "      <th>25%</th>\n",
       "      <td>0.045000</td>\n",
       "      <td>534.500000</td>\n",
       "      <td>522.500000</td>\n",
       "      <td>1058.000000</td>\n",
       "      <td>0.055000</td>\n",
       "      <td>527.500000</td>\n",
       "      <td>511.500000</td>\n",
       "      <td>1037.500000</td>\n",
       "      <td>10106.045000</td>\n",
       "      <td>10282.205000</td>\n",
       "      <td>-19.500000</td>\n",
       "      <td>278.440000</td>\n",
       "    </tr>\n",
       "    <tr>\n",
       "      <th>50%</th>\n",
       "      <td>0.520000</td>\n",
       "      <td>552.000000</td>\n",
       "      <td>544.000000</td>\n",
       "      <td>1097.000000</td>\n",
       "      <td>0.540000</td>\n",
       "      <td>550.000000</td>\n",
       "      <td>546.000000</td>\n",
       "      <td>1098.000000</td>\n",
       "      <td>11919.750000</td>\n",
       "      <td>12449.700000</td>\n",
       "      <td>-9.000000</td>\n",
       "      <td>392.610000</td>\n",
       "    </tr>\n",
       "    <tr>\n",
       "      <th>75%</th>\n",
       "      <td>0.775000</td>\n",
       "      <td>610.500000</td>\n",
       "      <td>593.500000</td>\n",
       "      <td>1204.000000</td>\n",
       "      <td>0.820000</td>\n",
       "      <td>612.000000</td>\n",
       "      <td>599.000000</td>\n",
       "      <td>1210.500000</td>\n",
       "      <td>15440.315000</td>\n",
       "      <td>16179.250000</td>\n",
       "      <td>-1.500000</td>\n",
       "      <td>637.885000</td>\n",
       "    </tr>\n",
       "    <tr>\n",
       "      <th>max</th>\n",
       "      <td>1.000000</td>\n",
       "      <td>643.000000</td>\n",
       "      <td>655.000000</td>\n",
       "      <td>1298.000000</td>\n",
       "      <td>1.000000</td>\n",
       "      <td>636.000000</td>\n",
       "      <td>648.000000</td>\n",
       "      <td>1284.000000</td>\n",
       "      <td>24048.210000</td>\n",
       "      <td>25139.200000</td>\n",
       "      <td>219.000000</td>\n",
       "      <td>1892.220000</td>\n",
       "    </tr>\n",
       "  </tbody>\n",
       "</table>\n",
       "</div>"
      ],
      "text/plain": [
       "       participation_2018   ebrw_2018   math_2018   total_2018  \\\n",
       "count           51.000000   51.000000   51.000000    51.000000   \n",
       "mean             0.457451  563.686275  556.235294  1119.921569   \n",
       "std              0.373143   47.502627   47.772623    94.189138   \n",
       "min              0.020000  480.000000  480.000000   977.000000   \n",
       "25%              0.045000  534.500000  522.500000  1058.000000   \n",
       "50%              0.520000  552.000000  544.000000  1097.000000   \n",
       "75%              0.775000  610.500000  593.500000  1204.000000   \n",
       "max              1.000000  643.000000  655.000000  1298.000000   \n",
       "\n",
       "       participation_2019   ebrw_2019   math_2019   total_2019  funding_2018  \\\n",
       "count           51.000000   51.000000   51.000000    51.000000     51.000000   \n",
       "mean             0.490588  560.803922  552.196078  1113.000000  12907.448235   \n",
       "std              0.387476   46.248035   51.290553    97.198148   3836.008526   \n",
       "min              0.020000  483.000000  460.000000   943.000000   7627.660000   \n",
       "25%              0.055000  527.500000  511.500000  1037.500000  10106.045000   \n",
       "50%              0.540000  550.000000  546.000000  1098.000000  11919.750000   \n",
       "75%              0.820000  612.000000  599.000000  1210.500000  15440.315000   \n",
       "max              1.000000  636.000000  648.000000  1284.000000  24048.210000   \n",
       "\n",
       "       funding_2019   score_var     fund_var  \n",
       "count     51.000000   51.000000    51.000000  \n",
       "mean   13381.160784   -6.921569   473.712549  \n",
       "std     3933.835412   41.614826   366.468606  \n",
       "min     7984.820000 -100.000000  -352.810000  \n",
       "25%    10282.205000  -19.500000   278.440000  \n",
       "50%    12449.700000   -9.000000   392.610000  \n",
       "75%    16179.250000   -1.500000   637.885000  \n",
       "max    25139.200000  219.000000  1892.220000  "
      ]
     },
     "execution_count": 45,
     "metadata": {},
     "output_type": "execute_result"
    }
   ],
   "source": [
    "#Summary Statistics:\n",
    "all_dfs.describe()"
   ]
  },
  {
   "cell_type": "code",
   "execution_count": 46,
   "metadata": {},
   "outputs": [],
   "source": [
    "#function from part 1\n",
    "def std_dev(x):\n",
    "    value = []\n",
    "    for num in x:                        #using for loop function\n",
    "        dev = (num - mean_value(x))**2   \n",
    "        value.append(dev)\n",
    "    sd = (sum(value) / len(x))**0.5      #to calculate standard deviation\n",
    "    return sd"
   ]
  },
  {
   "cell_type": "code",
   "execution_count": 47,
   "metadata": {},
   "outputs": [
    {
     "data": {
      "text/plain": [
       "[0.3694661922353942,\n",
       " 47.03460978357609,\n",
       " 47.30194550378352,\n",
       " 93.26114360945468,\n",
       " 0.3836584048685726,\n",
       " 45.792378682545134,\n",
       " 50.78521461840036,\n",
       " 96.24050755330443,\n",
       " 3798.2144172454764,\n",
       " 3895.077467536827,\n",
       " 41.204817506872935,\n",
       " 362.8579902031743]"
      ]
     },
     "execution_count": 47,
     "metadata": {},
     "output_type": "execute_result"
    }
   ],
   "source": [
    "#list of standard deviation\n",
    "std_dev_all = [std_dev(all_dfs[x]) for x in all_dfs.select_dtypes(include=np.number)]\n",
    "std_dev_all"
   ]
  },
  {
   "cell_type": "code",
   "execution_count": 48,
   "metadata": {},
   "outputs": [
    {
     "data": {
      "text/plain": [
       "['state',\n",
       " 'participation_2018',\n",
       " 'ebrw_2018',\n",
       " 'math_2018',\n",
       " 'total_2018',\n",
       " 'participation_2019',\n",
       " 'ebrw_2019',\n",
       " 'math_2019',\n",
       " 'total_2019',\n",
       " 'code',\n",
       " 'funding_2018',\n",
       " 'funding_2019',\n",
       " 'score_var',\n",
       " 'fund_var']"
      ]
     },
     "execution_count": 48,
     "metadata": {},
     "output_type": "execute_result"
    }
   ],
   "source": [
    "#display all columns\n",
    "all_dfs.columns.tolist()"
   ]
  },
  {
   "cell_type": "code",
   "execution_count": 49,
   "metadata": {},
   "outputs": [],
   "source": [
    "#create a dictionary\n",
    "sd = {\n",
    "    'participation_2018': std_dev(all_dfs['participation_2018']),\n",
    "    'ebrw_2018' : std_dev(all_dfs['ebrw_2018']),\n",
    "    'math_2018' : std_dev(all_dfs['math_2018']),\n",
    "    'total_2018' : std_dev(all_dfs['total_2018']),\n",
    "    'participation_2019': std_dev(all_dfs['participation_2019']),\n",
    "    'ebrw_2019' : std_dev(all_dfs['ebrw_2019']),\n",
    "    'math_2019' : std_dev(all_dfs['math_2019']),\n",
    "    'total_2019' : std_dev(all_dfs['total_2019']),\n",
    "    'funding_2018' : std_dev(all_dfs['funding_2018']),\n",
    "    'funding_2019' : std_dev(all_dfs['funding_2019'])\n",
    "}"
   ]
  },
  {
   "cell_type": "code",
   "execution_count": 50,
   "metadata": {},
   "outputs": [
    {
     "data": {
      "text/plain": [
       "{'participation_2018': 0.3694661922353942,\n",
       " 'ebrw_2018': 47.03460978357609,\n",
       " 'math_2018': 47.30194550378352,\n",
       " 'total_2018': 93.26114360945468,\n",
       " 'participation_2019': 0.3836584048685726,\n",
       " 'ebrw_2019': 45.792378682545134,\n",
       " 'math_2019': 50.78521461840036,\n",
       " 'total_2019': 96.24050755330443,\n",
       " 'funding_2018': 3798.2144172454764,\n",
       " 'funding_2019': 3895.077467536827}"
      ]
     },
     "execution_count": 50,
     "metadata": {},
     "output_type": "execute_result"
    }
   ],
   "source": [
    "sd"
   ]
  },
  {
   "cell_type": "code",
   "execution_count": 51,
   "metadata": {
    "scrolled": true
   },
   "outputs": [
    {
     "data": {
      "text/html": [
       "<div>\n",
       "<style scoped>\n",
       "    .dataframe tbody tr th:only-of-type {\n",
       "        vertical-align: middle;\n",
       "    }\n",
       "\n",
       "    .dataframe tbody tr th {\n",
       "        vertical-align: top;\n",
       "    }\n",
       "\n",
       "    .dataframe thead th {\n",
       "        text-align: right;\n",
       "    }\n",
       "</style>\n",
       "<table border=\"1\" class=\"dataframe\">\n",
       "  <thead>\n",
       "    <tr style=\"text-align: right;\">\n",
       "      <th></th>\n",
       "      <th>state</th>\n",
       "      <th>total_2018</th>\n",
       "      <th>total_2019</th>\n",
       "      <th>score_var</th>\n",
       "      <th>funding_2018</th>\n",
       "      <th>funding_2019</th>\n",
       "      <th>fund_var</th>\n",
       "    </tr>\n",
       "  </thead>\n",
       "  <tbody>\n",
       "    <tr>\n",
       "      <th>32</th>\n",
       "      <td>New York</td>\n",
       "      <td>1068</td>\n",
       "      <td>1064</td>\n",
       "      <td>-4</td>\n",
       "      <td>24048.21</td>\n",
       "      <td>25139.20</td>\n",
       "      <td>1090.99</td>\n",
       "    </tr>\n",
       "    <tr>\n",
       "      <th>8</th>\n",
       "      <td>District of Columbia</td>\n",
       "      <td>977</td>\n",
       "      <td>975</td>\n",
       "      <td>-2</td>\n",
       "      <td>22758.86</td>\n",
       "      <td>22406.05</td>\n",
       "      <td>-352.81</td>\n",
       "    </tr>\n",
       "    <tr>\n",
       "      <th>6</th>\n",
       "      <td>Connecticut</td>\n",
       "      <td>1054</td>\n",
       "      <td>1045</td>\n",
       "      <td>-9</td>\n",
       "      <td>20634.92</td>\n",
       "      <td>21310.45</td>\n",
       "      <td>675.53</td>\n",
       "    </tr>\n",
       "    <tr>\n",
       "      <th>30</th>\n",
       "      <td>New Jersey</td>\n",
       "      <td>1094</td>\n",
       "      <td>1089</td>\n",
       "      <td>-5</td>\n",
       "      <td>19526.25</td>\n",
       "      <td>20512.01</td>\n",
       "      <td>985.76</td>\n",
       "    </tr>\n",
       "    <tr>\n",
       "      <th>45</th>\n",
       "      <td>Vermont</td>\n",
       "      <td>1119</td>\n",
       "      <td>1106</td>\n",
       "      <td>-13</td>\n",
       "      <td>19341.05</td>\n",
       "      <td>20315.14</td>\n",
       "      <td>974.09</td>\n",
       "    </tr>\n",
       "  </tbody>\n",
       "</table>\n",
       "</div>"
      ],
      "text/plain": [
       "                   state  total_2018  total_2019  score_var  funding_2018  \\\n",
       "32              New York        1068        1064         -4      24048.21   \n",
       "8   District of Columbia         977         975         -2      22758.86   \n",
       "6            Connecticut        1054        1045         -9      20634.92   \n",
       "30            New Jersey        1094        1089         -5      19526.25   \n",
       "45               Vermont        1119        1106        -13      19341.05   \n",
       "\n",
       "    funding_2019  fund_var  \n",
       "32      25139.20   1090.99  \n",
       "8       22406.05   -352.81  \n",
       "6       21310.45    675.53  \n",
       "30      20512.01    985.76  \n",
       "45      20315.14    974.09  "
      ]
     },
     "execution_count": 51,
     "metadata": {},
     "output_type": "execute_result"
    }
   ],
   "source": [
    "#Top 5 funding in 2018\n",
    "all_dfs.sort_values(by = 'funding_2018', ascending = False)[['state', 'total_2018','total_2019','score_var', 'funding_2018', 'funding_2019', 'fund_var']].head()"
   ]
  },
  {
   "cell_type": "code",
   "execution_count": 52,
   "metadata": {},
   "outputs": [
    {
     "data": {
      "text/html": [
       "<div>\n",
       "<style scoped>\n",
       "    .dataframe tbody tr th:only-of-type {\n",
       "        vertical-align: middle;\n",
       "    }\n",
       "\n",
       "    .dataframe tbody tr th {\n",
       "        vertical-align: top;\n",
       "    }\n",
       "\n",
       "    .dataframe thead th {\n",
       "        text-align: right;\n",
       "    }\n",
       "</style>\n",
       "<table border=\"1\" class=\"dataframe\">\n",
       "  <thead>\n",
       "    <tr style=\"text-align: right;\">\n",
       "      <th></th>\n",
       "      <th>state</th>\n",
       "      <th>total_2018</th>\n",
       "      <th>total_2019</th>\n",
       "      <th>score_var</th>\n",
       "      <th>funding_2018</th>\n",
       "      <th>funding_2019</th>\n",
       "      <th>fund_var</th>\n",
       "    </tr>\n",
       "  </thead>\n",
       "  <tbody>\n",
       "    <tr>\n",
       "      <th>44</th>\n",
       "      <td>Utah</td>\n",
       "      <td>1010</td>\n",
       "      <td>1229</td>\n",
       "      <td>219</td>\n",
       "      <td>7627.66</td>\n",
       "      <td>8014.31</td>\n",
       "      <td>386.65</td>\n",
       "    </tr>\n",
       "    <tr>\n",
       "      <th>12</th>\n",
       "      <td>Idaho</td>\n",
       "      <td>1001</td>\n",
       "      <td>993</td>\n",
       "      <td>-8</td>\n",
       "      <td>7770.60</td>\n",
       "      <td>7984.82</td>\n",
       "      <td>214.22</td>\n",
       "    </tr>\n",
       "    <tr>\n",
       "      <th>35</th>\n",
       "      <td>Oklahoma</td>\n",
       "      <td>1062</td>\n",
       "      <td>962</td>\n",
       "      <td>-100</td>\n",
       "      <td>8238.62</td>\n",
       "      <td>9322.57</td>\n",
       "      <td>1083.95</td>\n",
       "    </tr>\n",
       "    <tr>\n",
       "      <th>2</th>\n",
       "      <td>Arizona</td>\n",
       "      <td>1149</td>\n",
       "      <td>1134</td>\n",
       "      <td>-15</td>\n",
       "      <td>8254.80</td>\n",
       "      <td>8625.47</td>\n",
       "      <td>370.67</td>\n",
       "    </tr>\n",
       "    <tr>\n",
       "      <th>24</th>\n",
       "      <td>Mississippi</td>\n",
       "      <td>1236</td>\n",
       "      <td>1236</td>\n",
       "      <td>0</td>\n",
       "      <td>8934.78</td>\n",
       "      <td>9284.46</td>\n",
       "      <td>349.68</td>\n",
       "    </tr>\n",
       "  </tbody>\n",
       "</table>\n",
       "</div>"
      ],
      "text/plain": [
       "          state  total_2018  total_2019  score_var  funding_2018  \\\n",
       "44         Utah        1010        1229        219       7627.66   \n",
       "12        Idaho        1001         993         -8       7770.60   \n",
       "35     Oklahoma        1062         962       -100       8238.62   \n",
       "2       Arizona        1149        1134        -15       8254.80   \n",
       "24  Mississippi        1236        1236          0       8934.78   \n",
       "\n",
       "    funding_2019  fund_var  \n",
       "44       8014.31    386.65  \n",
       "12       7984.82    214.22  \n",
       "35       9322.57   1083.95  \n",
       "2        8625.47    370.67  \n",
       "24       9284.46    349.68  "
      ]
     },
     "execution_count": 52,
     "metadata": {},
     "output_type": "execute_result"
    }
   ],
   "source": [
    "#bottom 5 funding in 2018\n",
    "all_dfs.sort_values(by = 'funding_2018', ascending = True)[['state','total_2018', 'total_2019', 'score_var', 'funding_2018', 'funding_2019','fund_var']].head()"
   ]
  },
  {
   "cell_type": "markdown",
   "metadata": {},
   "source": [
    "Bottom 5 funding in 2018, all below average. With only Utah score increased."
   ]
  },
  {
   "cell_type": "code",
   "execution_count": 53,
   "metadata": {},
   "outputs": [
    {
     "data": {
      "text/html": [
       "<div>\n",
       "<style scoped>\n",
       "    .dataframe tbody tr th:only-of-type {\n",
       "        vertical-align: middle;\n",
       "    }\n",
       "\n",
       "    .dataframe tbody tr th {\n",
       "        vertical-align: top;\n",
       "    }\n",
       "\n",
       "    .dataframe thead th {\n",
       "        text-align: right;\n",
       "    }\n",
       "</style>\n",
       "<table border=\"1\" class=\"dataframe\">\n",
       "  <thead>\n",
       "    <tr style=\"text-align: right;\">\n",
       "      <th></th>\n",
       "      <th>state</th>\n",
       "      <th>total_2018</th>\n",
       "      <th>total_2019</th>\n",
       "      <th>score_var</th>\n",
       "      <th>funding_2018</th>\n",
       "      <th>funding_2019</th>\n",
       "      <th>fund_var</th>\n",
       "    </tr>\n",
       "  </thead>\n",
       "  <tbody>\n",
       "    <tr>\n",
       "      <th>23</th>\n",
       "      <td>Minnesota</td>\n",
       "      <td>1298</td>\n",
       "      <td>1284</td>\n",
       "      <td>-14</td>\n",
       "      <td>12994.59</td>\n",
       "      <td>13387.20</td>\n",
       "      <td>392.61</td>\n",
       "    </tr>\n",
       "    <tr>\n",
       "      <th>49</th>\n",
       "      <td>Wisconsin</td>\n",
       "      <td>1294</td>\n",
       "      <td>1283</td>\n",
       "      <td>-11</td>\n",
       "      <td>12285.10</td>\n",
       "      <td>12597.52</td>\n",
       "      <td>312.42</td>\n",
       "    </tr>\n",
       "    <tr>\n",
       "      <th>34</th>\n",
       "      <td>North Dakota</td>\n",
       "      <td>1283</td>\n",
       "      <td>1263</td>\n",
       "      <td>-20</td>\n",
       "      <td>13757.58</td>\n",
       "      <td>14004.34</td>\n",
       "      <td>246.76</td>\n",
       "    </tr>\n",
       "    <tr>\n",
       "      <th>15</th>\n",
       "      <td>Iowa</td>\n",
       "      <td>1265</td>\n",
       "      <td>1244</td>\n",
       "      <td>-21</td>\n",
       "      <td>11732.34</td>\n",
       "      <td>11907.11</td>\n",
       "      <td>174.77</td>\n",
       "    </tr>\n",
       "    <tr>\n",
       "      <th>16</th>\n",
       "      <td>Kansas</td>\n",
       "      <td>1264</td>\n",
       "      <td>1241</td>\n",
       "      <td>-23</td>\n",
       "      <td>11652.72</td>\n",
       "      <td>11925.78</td>\n",
       "      <td>273.06</td>\n",
       "    </tr>\n",
       "  </tbody>\n",
       "</table>\n",
       "</div>"
      ],
      "text/plain": [
       "           state  total_2018  total_2019  score_var  funding_2018  \\\n",
       "23     Minnesota        1298        1284        -14      12994.59   \n",
       "49     Wisconsin        1294        1283        -11      12285.10   \n",
       "34  North Dakota        1283        1263        -20      13757.58   \n",
       "15          Iowa        1265        1244        -21      11732.34   \n",
       "16        Kansas        1264        1241        -23      11652.72   \n",
       "\n",
       "    funding_2019  fund_var  \n",
       "23      13387.20    392.61  \n",
       "49      12597.52    312.42  \n",
       "34      14004.34    246.76  \n",
       "15      11907.11    174.77  \n",
       "16      11925.78    273.06  "
      ]
     },
     "execution_count": 53,
     "metadata": {},
     "output_type": "execute_result"
    }
   ],
   "source": [
    "#top 5 total_2018 scores\n",
    "all_dfs.sort_values(by = 'total_2018' , ascending = False)[['state','total_2018', 'total_2019', 'score_var','funding_2018', 'funding_2019','fund_var']].head()"
   ]
  },
  {
   "cell_type": "markdown",
   "metadata": {},
   "source": [
    "Top 5 score in 2018, fund increased yet score decreased."
   ]
  },
  {
   "cell_type": "code",
   "execution_count": 54,
   "metadata": {},
   "outputs": [
    {
     "data": {
      "text/html": [
       "<div>\n",
       "<style scoped>\n",
       "    .dataframe tbody tr th:only-of-type {\n",
       "        vertical-align: middle;\n",
       "    }\n",
       "\n",
       "    .dataframe tbody tr th {\n",
       "        vertical-align: top;\n",
       "    }\n",
       "\n",
       "    .dataframe thead th {\n",
       "        text-align: right;\n",
       "    }\n",
       "</style>\n",
       "<table border=\"1\" class=\"dataframe\">\n",
       "  <thead>\n",
       "    <tr style=\"text-align: right;\">\n",
       "      <th></th>\n",
       "      <th>state</th>\n",
       "      <th>total_2018</th>\n",
       "      <th>total_2019</th>\n",
       "      <th>score_var</th>\n",
       "      <th>funding_2018</th>\n",
       "      <th>funding_2019</th>\n",
       "      <th>fund_var</th>\n",
       "    </tr>\n",
       "  </thead>\n",
       "  <tbody>\n",
       "    <tr>\n",
       "      <th>8</th>\n",
       "      <td>District of Columbia</td>\n",
       "      <td>977</td>\n",
       "      <td>975</td>\n",
       "      <td>-2</td>\n",
       "      <td>22758.86</td>\n",
       "      <td>22406.05</td>\n",
       "      <td>-352.81</td>\n",
       "    </tr>\n",
       "    <tr>\n",
       "      <th>7</th>\n",
       "      <td>Delaware</td>\n",
       "      <td>997</td>\n",
       "      <td>985</td>\n",
       "      <td>-12</td>\n",
       "      <td>15638.63</td>\n",
       "      <td>16314.69</td>\n",
       "      <td>676.06</td>\n",
       "    </tr>\n",
       "    <tr>\n",
       "      <th>48</th>\n",
       "      <td>West Virginia</td>\n",
       "      <td>999</td>\n",
       "      <td>943</td>\n",
       "      <td>-56</td>\n",
       "      <td>11334.15</td>\n",
       "      <td>12009.85</td>\n",
       "      <td>675.70</td>\n",
       "    </tr>\n",
       "    <tr>\n",
       "      <th>12</th>\n",
       "      <td>Idaho</td>\n",
       "      <td>1001</td>\n",
       "      <td>993</td>\n",
       "      <td>-8</td>\n",
       "      <td>7770.60</td>\n",
       "      <td>7984.82</td>\n",
       "      <td>214.22</td>\n",
       "    </tr>\n",
       "    <tr>\n",
       "      <th>44</th>\n",
       "      <td>Utah</td>\n",
       "      <td>1010</td>\n",
       "      <td>1229</td>\n",
       "      <td>219</td>\n",
       "      <td>7627.66</td>\n",
       "      <td>8014.31</td>\n",
       "      <td>386.65</td>\n",
       "    </tr>\n",
       "  </tbody>\n",
       "</table>\n",
       "</div>"
      ],
      "text/plain": [
       "                   state  total_2018  total_2019  score_var  funding_2018  \\\n",
       "8   District of Columbia         977         975         -2      22758.86   \n",
       "7               Delaware         997         985        -12      15638.63   \n",
       "48         West Virginia         999         943        -56      11334.15   \n",
       "12                 Idaho        1001         993         -8       7770.60   \n",
       "44                  Utah        1010        1229        219       7627.66   \n",
       "\n",
       "    funding_2019  fund_var  \n",
       "8       22406.05   -352.81  \n",
       "7       16314.69    676.06  \n",
       "48      12009.85    675.70  \n",
       "12       7984.82    214.22  \n",
       "44       8014.31    386.65  "
      ]
     },
     "execution_count": 54,
     "metadata": {},
     "output_type": "execute_result"
    }
   ],
   "source": [
    "#bottom 5 for total_2018 scores\n",
    "all_dfs.sort_values(by = 'total_2018' , ascending = True)[['state','total_2018', 'total_2019', 'score_var', 'funding_2018', 'funding_2019', 'fund_var']].head()"
   ]
  },
  {
   "cell_type": "markdown",
   "metadata": {},
   "source": [
    "Bottom 5 score in 2018, with Utah improved most in 2019."
   ]
  },
  {
   "cell_type": "code",
   "execution_count": 55,
   "metadata": {},
   "outputs": [
    {
     "data": {
      "text/html": [
       "<div>\n",
       "<style scoped>\n",
       "    .dataframe tbody tr th:only-of-type {\n",
       "        vertical-align: middle;\n",
       "    }\n",
       "\n",
       "    .dataframe tbody tr th {\n",
       "        vertical-align: top;\n",
       "    }\n",
       "\n",
       "    .dataframe thead th {\n",
       "        text-align: right;\n",
       "    }\n",
       "</style>\n",
       "<table border=\"1\" class=\"dataframe\">\n",
       "  <thead>\n",
       "    <tr style=\"text-align: right;\">\n",
       "      <th></th>\n",
       "      <th>state</th>\n",
       "      <th>total_2019</th>\n",
       "      <th>total_2018</th>\n",
       "      <th>score_var</th>\n",
       "      <th>funding_2019</th>\n",
       "      <th>funding_2018</th>\n",
       "      <th>fund_var</th>\n",
       "    </tr>\n",
       "  </thead>\n",
       "  <tbody>\n",
       "    <tr>\n",
       "      <th>32</th>\n",
       "      <td>New York</td>\n",
       "      <td>1064</td>\n",
       "      <td>1068</td>\n",
       "      <td>-4</td>\n",
       "      <td>25139.20</td>\n",
       "      <td>24048.21</td>\n",
       "      <td>1090.99</td>\n",
       "    </tr>\n",
       "    <tr>\n",
       "      <th>8</th>\n",
       "      <td>District of Columbia</td>\n",
       "      <td>975</td>\n",
       "      <td>977</td>\n",
       "      <td>-2</td>\n",
       "      <td>22406.05</td>\n",
       "      <td>22758.86</td>\n",
       "      <td>-352.81</td>\n",
       "    </tr>\n",
       "    <tr>\n",
       "      <th>6</th>\n",
       "      <td>Connecticut</td>\n",
       "      <td>1045</td>\n",
       "      <td>1054</td>\n",
       "      <td>-9</td>\n",
       "      <td>21310.45</td>\n",
       "      <td>20634.92</td>\n",
       "      <td>675.53</td>\n",
       "    </tr>\n",
       "    <tr>\n",
       "      <th>30</th>\n",
       "      <td>New Jersey</td>\n",
       "      <td>1089</td>\n",
       "      <td>1094</td>\n",
       "      <td>-5</td>\n",
       "      <td>20512.01</td>\n",
       "      <td>19526.25</td>\n",
       "      <td>985.76</td>\n",
       "    </tr>\n",
       "    <tr>\n",
       "      <th>45</th>\n",
       "      <td>Vermont</td>\n",
       "      <td>1106</td>\n",
       "      <td>1119</td>\n",
       "      <td>-13</td>\n",
       "      <td>20315.14</td>\n",
       "      <td>19341.05</td>\n",
       "      <td>974.09</td>\n",
       "    </tr>\n",
       "  </tbody>\n",
       "</table>\n",
       "</div>"
      ],
      "text/plain": [
       "                   state  total_2019  total_2018  score_var  funding_2019  \\\n",
       "32              New York        1064        1068         -4      25139.20   \n",
       "8   District of Columbia         975         977         -2      22406.05   \n",
       "6            Connecticut        1045        1054         -9      21310.45   \n",
       "30            New Jersey        1089        1094         -5      20512.01   \n",
       "45               Vermont        1106        1119        -13      20315.14   \n",
       "\n",
       "    funding_2018  fund_var  \n",
       "32      24048.21   1090.99  \n",
       "8       22758.86   -352.81  \n",
       "6       20634.92    675.53  \n",
       "30      19526.25    985.76  \n",
       "45      19341.05    974.09  "
      ]
     },
     "execution_count": 55,
     "metadata": {},
     "output_type": "execute_result"
    }
   ],
   "source": [
    "#Top 5 funding in 2019\n",
    "all_dfs.sort_values(by = 'funding_2019', ascending = False)[['state', 'total_2019', 'total_2018', 'score_var', 'funding_2019', 'funding_2018', 'fund_var']].head()"
   ]
  },
  {
   "cell_type": "markdown",
   "metadata": {},
   "source": [
    "Top 5 funding in 2019, fund higher than average, yet score lower than average"
   ]
  },
  {
   "cell_type": "code",
   "execution_count": 56,
   "metadata": {},
   "outputs": [
    {
     "data": {
      "text/html": [
       "<div>\n",
       "<style scoped>\n",
       "    .dataframe tbody tr th:only-of-type {\n",
       "        vertical-align: middle;\n",
       "    }\n",
       "\n",
       "    .dataframe tbody tr th {\n",
       "        vertical-align: top;\n",
       "    }\n",
       "\n",
       "    .dataframe thead th {\n",
       "        text-align: right;\n",
       "    }\n",
       "</style>\n",
       "<table border=\"1\" class=\"dataframe\">\n",
       "  <thead>\n",
       "    <tr style=\"text-align: right;\">\n",
       "      <th></th>\n",
       "      <th>state</th>\n",
       "      <th>total_2019</th>\n",
       "      <th>total_2018</th>\n",
       "      <th>score_var</th>\n",
       "      <th>funding_2019</th>\n",
       "      <th>funding_2018</th>\n",
       "      <th>fund_var</th>\n",
       "    </tr>\n",
       "  </thead>\n",
       "  <tbody>\n",
       "    <tr>\n",
       "      <th>12</th>\n",
       "      <td>Idaho</td>\n",
       "      <td>993</td>\n",
       "      <td>1001</td>\n",
       "      <td>-8</td>\n",
       "      <td>7984.82</td>\n",
       "      <td>7770.60</td>\n",
       "      <td>214.22</td>\n",
       "    </tr>\n",
       "    <tr>\n",
       "      <th>44</th>\n",
       "      <td>Utah</td>\n",
       "      <td>1229</td>\n",
       "      <td>1010</td>\n",
       "      <td>219</td>\n",
       "      <td>8014.31</td>\n",
       "      <td>7627.66</td>\n",
       "      <td>386.65</td>\n",
       "    </tr>\n",
       "    <tr>\n",
       "      <th>2</th>\n",
       "      <td>Arizona</td>\n",
       "      <td>1134</td>\n",
       "      <td>1149</td>\n",
       "      <td>-15</td>\n",
       "      <td>8625.47</td>\n",
       "      <td>8254.80</td>\n",
       "      <td>370.67</td>\n",
       "    </tr>\n",
       "    <tr>\n",
       "      <th>24</th>\n",
       "      <td>Mississippi</td>\n",
       "      <td>1236</td>\n",
       "      <td>1236</td>\n",
       "      <td>0</td>\n",
       "      <td>9284.46</td>\n",
       "      <td>8934.78</td>\n",
       "      <td>349.68</td>\n",
       "    </tr>\n",
       "    <tr>\n",
       "      <th>35</th>\n",
       "      <td>Oklahoma</td>\n",
       "      <td>962</td>\n",
       "      <td>1062</td>\n",
       "      <td>-100</td>\n",
       "      <td>9322.57</td>\n",
       "      <td>8238.62</td>\n",
       "      <td>1083.95</td>\n",
       "    </tr>\n",
       "  </tbody>\n",
       "</table>\n",
       "</div>"
      ],
      "text/plain": [
       "          state  total_2019  total_2018  score_var  funding_2019  \\\n",
       "12        Idaho         993        1001         -8       7984.82   \n",
       "44         Utah        1229        1010        219       8014.31   \n",
       "2       Arizona        1134        1149        -15       8625.47   \n",
       "24  Mississippi        1236        1236          0       9284.46   \n",
       "35     Oklahoma         962        1062       -100       9322.57   \n",
       "\n",
       "    funding_2018  fund_var  \n",
       "12       7770.60    214.22  \n",
       "44       7627.66    386.65  \n",
       "2        8254.80    370.67  \n",
       "24       8934.78    349.68  \n",
       "35       8238.62   1083.95  "
      ]
     },
     "execution_count": 56,
     "metadata": {},
     "output_type": "execute_result"
    }
   ],
   "source": [
    "#bottom 5 funding in 2019\n",
    "all_dfs.sort_values(by = 'funding_2019', ascending = True)[['state', 'total_2019', 'total_2018', 'score_var', 'funding_2019', 'funding_2018', 'fund_var']].head()"
   ]
  },
  {
   "cell_type": "markdown",
   "metadata": {},
   "source": [
    "Bottom 5 funding in 2019. Utah scored above average in 2019 with fund below average."
   ]
  },
  {
   "cell_type": "code",
   "execution_count": 57,
   "metadata": {},
   "outputs": [
    {
     "data": {
      "text/html": [
       "<div>\n",
       "<style scoped>\n",
       "    .dataframe tbody tr th:only-of-type {\n",
       "        vertical-align: middle;\n",
       "    }\n",
       "\n",
       "    .dataframe tbody tr th {\n",
       "        vertical-align: top;\n",
       "    }\n",
       "\n",
       "    .dataframe thead th {\n",
       "        text-align: right;\n",
       "    }\n",
       "</style>\n",
       "<table border=\"1\" class=\"dataframe\">\n",
       "  <thead>\n",
       "    <tr style=\"text-align: right;\">\n",
       "      <th></th>\n",
       "      <th>state</th>\n",
       "      <th>total_2019</th>\n",
       "      <th>total_2018</th>\n",
       "      <th>score_var</th>\n",
       "      <th>funding_2019</th>\n",
       "      <th>funding_2018</th>\n",
       "      <th>fund_var</th>\n",
       "    </tr>\n",
       "  </thead>\n",
       "  <tbody>\n",
       "    <tr>\n",
       "      <th>23</th>\n",
       "      <td>Minnesota</td>\n",
       "      <td>1284</td>\n",
       "      <td>1298</td>\n",
       "      <td>-14</td>\n",
       "      <td>13387.20</td>\n",
       "      <td>12994.59</td>\n",
       "      <td>392.61</td>\n",
       "    </tr>\n",
       "    <tr>\n",
       "      <th>49</th>\n",
       "      <td>Wisconsin</td>\n",
       "      <td>1283</td>\n",
       "      <td>1294</td>\n",
       "      <td>-11</td>\n",
       "      <td>12597.52</td>\n",
       "      <td>12285.10</td>\n",
       "      <td>312.42</td>\n",
       "    </tr>\n",
       "    <tr>\n",
       "      <th>41</th>\n",
       "      <td>South Dakota</td>\n",
       "      <td>1268</td>\n",
       "      <td>1240</td>\n",
       "      <td>28</td>\n",
       "      <td>10138.82</td>\n",
       "      <td>10073.41</td>\n",
       "      <td>65.41</td>\n",
       "    </tr>\n",
       "    <tr>\n",
       "      <th>34</th>\n",
       "      <td>North Dakota</td>\n",
       "      <td>1263</td>\n",
       "      <td>1283</td>\n",
       "      <td>-20</td>\n",
       "      <td>14004.34</td>\n",
       "      <td>13757.58</td>\n",
       "      <td>246.76</td>\n",
       "    </tr>\n",
       "    <tr>\n",
       "      <th>27</th>\n",
       "      <td>Nebraska</td>\n",
       "      <td>1259</td>\n",
       "      <td>1252</td>\n",
       "      <td>7</td>\n",
       "      <td>12743.42</td>\n",
       "      <td>12815.75</td>\n",
       "      <td>-72.33</td>\n",
       "    </tr>\n",
       "  </tbody>\n",
       "</table>\n",
       "</div>"
      ],
      "text/plain": [
       "           state  total_2019  total_2018  score_var  funding_2019  \\\n",
       "23     Minnesota        1284        1298        -14      13387.20   \n",
       "49     Wisconsin        1283        1294        -11      12597.52   \n",
       "41  South Dakota        1268        1240         28      10138.82   \n",
       "34  North Dakota        1263        1283        -20      14004.34   \n",
       "27      Nebraska        1259        1252          7      12743.42   \n",
       "\n",
       "    funding_2018  fund_var  \n",
       "23      12994.59    392.61  \n",
       "49      12285.10    312.42  \n",
       "41      10073.41     65.41  \n",
       "34      13757.58    246.76  \n",
       "27      12815.75    -72.33  "
      ]
     },
     "execution_count": 57,
     "metadata": {},
     "output_type": "execute_result"
    }
   ],
   "source": [
    "#top 5 total_2019 scores\n",
    "all_dfs.sort_values(by = 'total_2019' , ascending = False)[['state', 'total_2019', 'total_2018', 'score_var', 'funding_2019', 'funding_2018', 'fund_var']].head()"
   ]
  },
  {
   "cell_type": "markdown",
   "metadata": {},
   "source": [
    "Top 5 score in 2019, only South Dakota score increased from 2018 with little fund increased."
   ]
  },
  {
   "cell_type": "code",
   "execution_count": 58,
   "metadata": {},
   "outputs": [
    {
     "data": {
      "text/html": [
       "<div>\n",
       "<style scoped>\n",
       "    .dataframe tbody tr th:only-of-type {\n",
       "        vertical-align: middle;\n",
       "    }\n",
       "\n",
       "    .dataframe tbody tr th {\n",
       "        vertical-align: top;\n",
       "    }\n",
       "\n",
       "    .dataframe thead th {\n",
       "        text-align: right;\n",
       "    }\n",
       "</style>\n",
       "<table border=\"1\" class=\"dataframe\">\n",
       "  <thead>\n",
       "    <tr style=\"text-align: right;\">\n",
       "      <th></th>\n",
       "      <th>state</th>\n",
       "      <th>total_2019</th>\n",
       "      <th>total_2018</th>\n",
       "      <th>score_var</th>\n",
       "      <th>funding_2019</th>\n",
       "      <th>funding_2018</th>\n",
       "      <th>fund_var</th>\n",
       "    </tr>\n",
       "  </thead>\n",
       "  <tbody>\n",
       "    <tr>\n",
       "      <th>48</th>\n",
       "      <td>West Virginia</td>\n",
       "      <td>943</td>\n",
       "      <td>999</td>\n",
       "      <td>-56</td>\n",
       "      <td>12009.85</td>\n",
       "      <td>11334.15</td>\n",
       "      <td>675.70</td>\n",
       "    </tr>\n",
       "    <tr>\n",
       "      <th>35</th>\n",
       "      <td>Oklahoma</td>\n",
       "      <td>962</td>\n",
       "      <td>1062</td>\n",
       "      <td>-100</td>\n",
       "      <td>9322.57</td>\n",
       "      <td>8238.62</td>\n",
       "      <td>1083.95</td>\n",
       "    </tr>\n",
       "    <tr>\n",
       "      <th>8</th>\n",
       "      <td>District of Columbia</td>\n",
       "      <td>975</td>\n",
       "      <td>977</td>\n",
       "      <td>-2</td>\n",
       "      <td>22406.05</td>\n",
       "      <td>22758.86</td>\n",
       "      <td>-352.81</td>\n",
       "    </tr>\n",
       "    <tr>\n",
       "      <th>7</th>\n",
       "      <td>Delaware</td>\n",
       "      <td>985</td>\n",
       "      <td>997</td>\n",
       "      <td>-12</td>\n",
       "      <td>16314.69</td>\n",
       "      <td>15638.63</td>\n",
       "      <td>676.06</td>\n",
       "    </tr>\n",
       "    <tr>\n",
       "      <th>12</th>\n",
       "      <td>Idaho</td>\n",
       "      <td>993</td>\n",
       "      <td>1001</td>\n",
       "      <td>-8</td>\n",
       "      <td>7984.82</td>\n",
       "      <td>7770.60</td>\n",
       "      <td>214.22</td>\n",
       "    </tr>\n",
       "  </tbody>\n",
       "</table>\n",
       "</div>"
      ],
      "text/plain": [
       "                   state  total_2019  total_2018  score_var  funding_2019  \\\n",
       "48         West Virginia         943         999        -56      12009.85   \n",
       "35              Oklahoma         962        1062       -100       9322.57   \n",
       "8   District of Columbia         975         977         -2      22406.05   \n",
       "7               Delaware         985         997        -12      16314.69   \n",
       "12                 Idaho         993        1001         -8       7984.82   \n",
       "\n",
       "    funding_2018  fund_var  \n",
       "48      11334.15    675.70  \n",
       "35       8238.62   1083.95  \n",
       "8       22758.86   -352.81  \n",
       "7       15638.63    676.06  \n",
       "12       7770.60    214.22  "
      ]
     },
     "execution_count": 58,
     "metadata": {},
     "output_type": "execute_result"
    }
   ],
   "source": [
    "#bottom 5 total_2019 scores\n",
    "all_dfs.sort_values(by = 'total_2019' , ascending = True)[['state', 'total_2019', 'total_2018', 'score_var', 'funding_2019', 'funding_2018', 'fund_var']].head()"
   ]
  },
  {
   "cell_type": "markdown",
   "metadata": {},
   "source": [
    "Bottom 5 score. Oklahoma fund increased by 1k, yet the score decline by 100. "
   ]
  },
  {
   "cell_type": "code",
   "execution_count": 59,
   "metadata": {},
   "outputs": [
    {
     "data": {
      "text/plain": [
       "1119.921568627451"
      ]
     },
     "execution_count": 59,
     "metadata": {},
     "output_type": "execute_result"
    }
   ],
   "source": [
    "#average score in 2018\n",
    "all_dfs['total_2018'].mean()"
   ]
  },
  {
   "cell_type": "markdown",
   "metadata": {},
   "source": [
    "Average score in 2018"
   ]
  },
  {
   "cell_type": "code",
   "execution_count": 60,
   "metadata": {},
   "outputs": [
    {
     "data": {
      "text/plain": [
       "1113.0"
      ]
     },
     "execution_count": 60,
     "metadata": {},
     "output_type": "execute_result"
    }
   ],
   "source": [
    "#average score in 2019\n",
    "all_dfs['total_2019'].mean()"
   ]
  },
  {
   "cell_type": "markdown",
   "metadata": {},
   "source": [
    "Average score in 2019"
   ]
  },
  {
   "cell_type": "code",
   "execution_count": 61,
   "metadata": {
    "scrolled": true
   },
   "outputs": [
    {
     "data": {
      "text/plain": [
       "12907.448235294121"
      ]
     },
     "execution_count": 61,
     "metadata": {},
     "output_type": "execute_result"
    }
   ],
   "source": [
    "#average funding in 2018\n",
    "all_dfs['funding_2018'].mean()"
   ]
  },
  {
   "cell_type": "markdown",
   "metadata": {},
   "source": [
    "Average funding in 2018"
   ]
  },
  {
   "cell_type": "code",
   "execution_count": 62,
   "metadata": {},
   "outputs": [
    {
     "data": {
      "text/plain": [
       "13381.160784313726"
      ]
     },
     "execution_count": 62,
     "metadata": {},
     "output_type": "execute_result"
    }
   ],
   "source": [
    "#average funding in 2019\n",
    "all_dfs['funding_2019'].mean()"
   ]
  },
  {
   "cell_type": "markdown",
   "metadata": {},
   "source": [
    "Average funding in 2019"
   ]
  },
  {
   "cell_type": "markdown",
   "metadata": {},
   "source": [
    "1. Top 5 funding states for scores in 2018 and 2019 are below average.\n",
    "2. Total average score in 2019 is lower than in 2018.\n",
    "3. However, total average funding in 2019 is higher than 2018."
   ]
  },
  {
   "cell_type": "markdown",
   "metadata": {},
   "source": [
    "## Visualize the Data\n",
    "\n",
    "There's not a magic bullet recommendation for the right number of plots to understand a given dataset, but visualizing your data is *always* a good idea. Not only does it allow you to quickly convey your findings (even if you have a non-technical audience), it will often reveal trends in your data that escaped you when you were looking only at numbers. It is important to not only create visualizations, but to **interpret your visualizations** as well.\n",
    "\n",
    "**Every plot should**:\n",
    "- Have a title\n",
    "- Have axis labels\n",
    "- Have appropriate tick labels\n",
    "- Text is legible in a plot\n",
    "- Plots demonstrate meaningful and valid relationships\n",
    "- Have an interpretation to aid understanding\n",
    "\n",
    "Here is an example of what your plots should look like following the above guidelines. Note that while the content of this example is unrelated, the principles of visualization hold:\n",
    "\n",
    "![](https://snag.gy/hCBR1U.jpg)\n",
    "*Interpretation: The above image shows that as we increase our spending on advertising, our sales numbers also tend to increase. There is a positive correlation between advertising spending and sales.*\n",
    "\n",
    "---\n",
    "\n",
    "Here are some prompts to get you started with visualizations. Feel free to add additional visualizations as you see fit:\n",
    "1. Use Seaborn's heatmap with pandas `.corr()` to visualize correlations between all numeric features.\n",
    "    - Heatmaps are generally not appropriate for presentations, and should often be excluded from reports as they can be visually overwhelming. **However**, they can be extremely useful in identify relationships of potential interest (as well as identifying potential collinearity before modeling).\n",
    "    - Please take time to format your output, adding a title. Look through some of the additional arguments and options. (Axis labels aren't really necessary, as long as the title is informative).\n",
    "2. Visualize distributions using histograms. If you have a lot, consider writing a custom function and use subplots.\n",
    "    - *OPTIONAL*: Summarize the underlying distributions of your features (in words & statistics)\n",
    "         - Be thorough in your verbal description of these distributions.\n",
    "         - Be sure to back up these summaries with statistics.\n",
    "         - We generally assume that data we sample from a population will be normally distributed. Do we observe this trend? Explain your answers for each distribution and how you think this will affect estimates made from these data.\n",
    "3. Plot and interpret boxplots. \n",
    "    - Boxplots demonstrate central tendency and spread in variables. In a certain sense, these are somewhat redundant with histograms, but you may be better able to identify clear outliers or differences in IQR, etc.\n",
    "    - Multiple values can be plotted to a single boxplot as long as they are of the same relative scale (meaning they have similar min/max values).\n",
    "    - Each boxplot should:\n",
    "        - Only include variables of a similar scale\n",
    "        - Have clear labels for each variable\n",
    "        - Have appropriate titles and labels\n",
    "4. Plot and interpret scatter plots to view relationships between features. Feel free to write a custom function, and subplot if you'd like. Functions save both time and space.\n",
    "    - Your plots should have:\n",
    "        - Two clearly labeled axes\n",
    "        - A proper title\n",
    "        - Colors and symbols that are clear and unmistakable\n",
    "5. Additional plots of your choosing.\n",
    "    - Are there any additional trends or relationships you haven't explored? Was there something interesting you saw that you'd like to dive further into? It's likely that there are a few more plots you might want to generate to support your narrative and recommendations that you are building toward. **As always, make sure you're interpreting your plots as you go**."
   ]
  },
  {
   "cell_type": "code",
   "execution_count": 63,
   "metadata": {},
   "outputs": [
    {
     "data": {
      "text/html": [
       "<div>\n",
       "<style scoped>\n",
       "    .dataframe tbody tr th:only-of-type {\n",
       "        vertical-align: middle;\n",
       "    }\n",
       "\n",
       "    .dataframe tbody tr th {\n",
       "        vertical-align: top;\n",
       "    }\n",
       "\n",
       "    .dataframe thead th {\n",
       "        text-align: right;\n",
       "    }\n",
       "</style>\n",
       "<table border=\"1\" class=\"dataframe\">\n",
       "  <thead>\n",
       "    <tr style=\"text-align: right;\">\n",
       "      <th></th>\n",
       "      <th>participation_2018</th>\n",
       "      <th>ebrw_2018</th>\n",
       "      <th>math_2018</th>\n",
       "      <th>total_2018</th>\n",
       "      <th>participation_2019</th>\n",
       "      <th>ebrw_2019</th>\n",
       "      <th>math_2019</th>\n",
       "      <th>total_2019</th>\n",
       "      <th>funding_2018</th>\n",
       "      <th>funding_2019</th>\n",
       "      <th>score_var</th>\n",
       "      <th>fund_var</th>\n",
       "    </tr>\n",
       "  </thead>\n",
       "  <tbody>\n",
       "    <tr>\n",
       "      <th>participation_2018</th>\n",
       "      <td>1.000000</td>\n",
       "      <td>-0.762055</td>\n",
       "      <td>-0.791338</td>\n",
       "      <td>-0.785695</td>\n",
       "      <td>0.952967</td>\n",
       "      <td>-0.795342</td>\n",
       "      <td>-0.751634</td>\n",
       "      <td>-0.775064</td>\n",
       "      <td>0.484060</td>\n",
       "      <td>0.501101</td>\n",
       "      <td>-0.031980</td>\n",
       "      <td>0.312148</td>\n",
       "    </tr>\n",
       "    <tr>\n",
       "      <th>ebrw_2018</th>\n",
       "      <td>-0.762055</td>\n",
       "      <td>1.000000</td>\n",
       "      <td>0.954661</td>\n",
       "      <td>0.988535</td>\n",
       "      <td>-0.789814</td>\n",
       "      <td>0.865572</td>\n",
       "      <td>0.831921</td>\n",
       "      <td>0.850846</td>\n",
       "      <td>-0.219388</td>\n",
       "      <td>-0.247115</td>\n",
       "      <td>-0.250117</td>\n",
       "      <td>-0.356200</td>\n",
       "    </tr>\n",
       "    <tr>\n",
       "      <th>math_2018</th>\n",
       "      <td>-0.791338</td>\n",
       "      <td>0.954661</td>\n",
       "      <td>1.000000</td>\n",
       "      <td>0.988665</td>\n",
       "      <td>-0.835846</td>\n",
       "      <td>0.940199</td>\n",
       "      <td>0.933717</td>\n",
       "      <td>0.940072</td>\n",
       "      <td>-0.203504</td>\n",
       "      <td>-0.228364</td>\n",
       "      <td>-0.042010</td>\n",
       "      <td>-0.321182</td>\n",
       "    </tr>\n",
       "    <tr>\n",
       "      <th>total_2018</th>\n",
       "      <td>-0.785695</td>\n",
       "      <td>0.988535</td>\n",
       "      <td>0.988665</td>\n",
       "      <td>1.000000</td>\n",
       "      <td>-0.822269</td>\n",
       "      <td>0.913404</td>\n",
       "      <td>0.893145</td>\n",
       "      <td>0.905913</td>\n",
       "      <td>-0.213861</td>\n",
       "      <td>-0.240454</td>\n",
       "      <td>-0.147450</td>\n",
       "      <td>-0.342547</td>\n",
       "    </tr>\n",
       "    <tr>\n",
       "      <th>participation_2019</th>\n",
       "      <td>0.952967</td>\n",
       "      <td>-0.789814</td>\n",
       "      <td>-0.835846</td>\n",
       "      <td>-0.822269</td>\n",
       "      <td>1.000000</td>\n",
       "      <td>-0.873453</td>\n",
       "      <td>-0.845841</td>\n",
       "      <td>-0.861942</td>\n",
       "      <td>0.418901</td>\n",
       "      <td>0.438499</td>\n",
       "      <td>-0.152117</td>\n",
       "      <td>0.322195</td>\n",
       "    </tr>\n",
       "    <tr>\n",
       "      <th>ebrw_2019</th>\n",
       "      <td>-0.795342</td>\n",
       "      <td>0.865572</td>\n",
       "      <td>0.940199</td>\n",
       "      <td>0.913404</td>\n",
       "      <td>-0.873453</td>\n",
       "      <td>1.000000</td>\n",
       "      <td>0.986026</td>\n",
       "      <td>0.996128</td>\n",
       "      <td>-0.245743</td>\n",
       "      <td>-0.274791</td>\n",
       "      <td>0.259261</td>\n",
       "      <td>-0.377409</td>\n",
       "    </tr>\n",
       "    <tr>\n",
       "      <th>math_2019</th>\n",
       "      <td>-0.751634</td>\n",
       "      <td>0.831921</td>\n",
       "      <td>0.933717</td>\n",
       "      <td>0.893145</td>\n",
       "      <td>-0.845841</td>\n",
       "      <td>0.986026</td>\n",
       "      <td>1.000000</td>\n",
       "      <td>0.996853</td>\n",
       "      <td>-0.184688</td>\n",
       "      <td>-0.211134</td>\n",
       "      <td>0.306807</td>\n",
       "      <td>-0.333186</td>\n",
       "    </tr>\n",
       "    <tr>\n",
       "      <th>total_2019</th>\n",
       "      <td>-0.775064</td>\n",
       "      <td>0.850846</td>\n",
       "      <td>0.940072</td>\n",
       "      <td>0.905913</td>\n",
       "      <td>-0.861942</td>\n",
       "      <td>0.996128</td>\n",
       "      <td>0.996853</td>\n",
       "      <td>1.000000</td>\n",
       "      <td>-0.214386</td>\n",
       "      <td>-0.242162</td>\n",
       "      <td>0.285259</td>\n",
       "      <td>-0.355395</td>\n",
       "    </tr>\n",
       "    <tr>\n",
       "      <th>funding_2018</th>\n",
       "      <td>0.484060</td>\n",
       "      <td>-0.219388</td>\n",
       "      <td>-0.203504</td>\n",
       "      <td>-0.213861</td>\n",
       "      <td>0.418901</td>\n",
       "      <td>-0.245743</td>\n",
       "      <td>-0.184688</td>\n",
       "      <td>-0.214386</td>\n",
       "      <td>1.000000</td>\n",
       "      <td>0.995867</td>\n",
       "      <td>-0.016688</td>\n",
       "      <td>0.222582</td>\n",
       "    </tr>\n",
       "    <tr>\n",
       "      <th>funding_2019</th>\n",
       "      <td>0.501101</td>\n",
       "      <td>-0.247115</td>\n",
       "      <td>-0.228364</td>\n",
       "      <td>-0.240454</td>\n",
       "      <td>0.438499</td>\n",
       "      <td>-0.274791</td>\n",
       "      <td>-0.211134</td>\n",
       "      <td>-0.242162</td>\n",
       "      <td>0.995867</td>\n",
       "      <td>1.000000</td>\n",
       "      <td>-0.021376</td>\n",
       "      <td>0.310205</td>\n",
       "    </tr>\n",
       "    <tr>\n",
       "      <th>score_var</th>\n",
       "      <td>-0.031980</td>\n",
       "      <td>-0.250117</td>\n",
       "      <td>-0.042010</td>\n",
       "      <td>-0.147450</td>\n",
       "      <td>-0.152117</td>\n",
       "      <td>0.259261</td>\n",
       "      <td>0.306807</td>\n",
       "      <td>0.285259</td>\n",
       "      <td>-0.016688</td>\n",
       "      <td>-0.021376</td>\n",
       "      <td>1.000000</td>\n",
       "      <td>-0.054777</td>\n",
       "    </tr>\n",
       "    <tr>\n",
       "      <th>fund_var</th>\n",
       "      <td>0.312148</td>\n",
       "      <td>-0.356200</td>\n",
       "      <td>-0.321182</td>\n",
       "      <td>-0.342547</td>\n",
       "      <td>0.322195</td>\n",
       "      <td>-0.377409</td>\n",
       "      <td>-0.333186</td>\n",
       "      <td>-0.355395</td>\n",
       "      <td>0.222582</td>\n",
       "      <td>0.310205</td>\n",
       "      <td>-0.054777</td>\n",
       "      <td>1.000000</td>\n",
       "    </tr>\n",
       "  </tbody>\n",
       "</table>\n",
       "</div>"
      ],
      "text/plain": [
       "                    participation_2018  ebrw_2018  math_2018  total_2018  \\\n",
       "participation_2018            1.000000  -0.762055  -0.791338   -0.785695   \n",
       "ebrw_2018                    -0.762055   1.000000   0.954661    0.988535   \n",
       "math_2018                    -0.791338   0.954661   1.000000    0.988665   \n",
       "total_2018                   -0.785695   0.988535   0.988665    1.000000   \n",
       "participation_2019            0.952967  -0.789814  -0.835846   -0.822269   \n",
       "ebrw_2019                    -0.795342   0.865572   0.940199    0.913404   \n",
       "math_2019                    -0.751634   0.831921   0.933717    0.893145   \n",
       "total_2019                   -0.775064   0.850846   0.940072    0.905913   \n",
       "funding_2018                  0.484060  -0.219388  -0.203504   -0.213861   \n",
       "funding_2019                  0.501101  -0.247115  -0.228364   -0.240454   \n",
       "score_var                    -0.031980  -0.250117  -0.042010   -0.147450   \n",
       "fund_var                      0.312148  -0.356200  -0.321182   -0.342547   \n",
       "\n",
       "                    participation_2019  ebrw_2019  math_2019  total_2019  \\\n",
       "participation_2018            0.952967  -0.795342  -0.751634   -0.775064   \n",
       "ebrw_2018                    -0.789814   0.865572   0.831921    0.850846   \n",
       "math_2018                    -0.835846   0.940199   0.933717    0.940072   \n",
       "total_2018                   -0.822269   0.913404   0.893145    0.905913   \n",
       "participation_2019            1.000000  -0.873453  -0.845841   -0.861942   \n",
       "ebrw_2019                    -0.873453   1.000000   0.986026    0.996128   \n",
       "math_2019                    -0.845841   0.986026   1.000000    0.996853   \n",
       "total_2019                   -0.861942   0.996128   0.996853    1.000000   \n",
       "funding_2018                  0.418901  -0.245743  -0.184688   -0.214386   \n",
       "funding_2019                  0.438499  -0.274791  -0.211134   -0.242162   \n",
       "score_var                    -0.152117   0.259261   0.306807    0.285259   \n",
       "fund_var                      0.322195  -0.377409  -0.333186   -0.355395   \n",
       "\n",
       "                    funding_2018  funding_2019  score_var  fund_var  \n",
       "participation_2018      0.484060      0.501101  -0.031980  0.312148  \n",
       "ebrw_2018              -0.219388     -0.247115  -0.250117 -0.356200  \n",
       "math_2018              -0.203504     -0.228364  -0.042010 -0.321182  \n",
       "total_2018             -0.213861     -0.240454  -0.147450 -0.342547  \n",
       "participation_2019      0.418901      0.438499  -0.152117  0.322195  \n",
       "ebrw_2019              -0.245743     -0.274791   0.259261 -0.377409  \n",
       "math_2019              -0.184688     -0.211134   0.306807 -0.333186  \n",
       "total_2019             -0.214386     -0.242162   0.285259 -0.355395  \n",
       "funding_2018            1.000000      0.995867  -0.016688  0.222582  \n",
       "funding_2019            0.995867      1.000000  -0.021376  0.310205  \n",
       "score_var              -0.016688     -0.021376   1.000000 -0.054777  \n",
       "fund_var                0.222582      0.310205  -0.054777  1.000000  "
      ]
     },
     "execution_count": 63,
     "metadata": {},
     "output_type": "execute_result"
    }
   ],
   "source": [
    "# correlation for funding and scores\n",
    "all_dfs.corr()"
   ]
  },
  {
   "cell_type": "code",
   "execution_count": 64,
   "metadata": {
    "scrolled": true
   },
   "outputs": [
    {
     "data": {
      "image/png": "[encoded data removed]",
      "text/plain": [
       "<Figure size 864x864 with 2 Axes>"
      ]
     },
     "metadata": {
      "needs_background": "light"
     },
     "output_type": "display_data"
    }
   ],
   "source": [
    "plt.figure(figsize=(12,12))\n",
    "sns.heatmap(all_dfs.corr(), annot= True);"
   ]
  },
  {
   "cell_type": "markdown",
   "metadata": {},
   "source": [
    "From the heatmap, we can see:\n",
    "- negative correlation for funding and total scores\n",
    "- positive correlation for funding and participation rate"
   ]
  },
  {
   "cell_type": "code",
   "execution_count": 65,
   "metadata": {
    "scrolled": false
   },
   "outputs": [
    {
     "data": {
      "image/png": "[encoded data removed]",
      "text/plain": [
       "<Figure size 864x432 with 2 Axes>"
      ]
     },
     "metadata": {
      "needs_background": "light"
     },
     "output_type": "display_data"
    }
   ],
   "source": [
    "#plot scatter graph with subplots\n",
    "fig, axes = plt.subplots(nrows=1,ncols=2,figsize=(12,6))\n",
    "ax1 = all_dfs.plot(kind='scatter', x = 'total_2018', y = 'funding_2018', ax = axes[0], subplots=True, color ='b', label = 'State', xlabel = 'Score in 2018', ylabel = 'Funding ($) in 2018', title = 'Average Funding per State vs Total Average Score per State')\n",
    "ax2 = all_dfs.plot(kind='scatter', x = 'total_2019', y = 'funding_2019', ax = axes[1], subplots=True, color ='orange', label = 'State', xlabel = 'Score in 2019', ylabel = 'Funding ($) in 2019')"
   ]
  },
  {
   "cell_type": "markdown",
   "metadata": {},
   "source": [
    "Both 2018 and 2019 showing slighly negative correlation"
   ]
  },
  {
   "cell_type": "code",
   "execution_count": 66,
   "metadata": {},
   "outputs": [
    {
     "data": {
      "image/png": "[encoded data removed]",
      "text/plain": [
       "<Figure size 576x432 with 1 Axes>"
      ]
     },
     "metadata": {
      "needs_background": "light"
     },
     "output_type": "display_data"
    }
   ],
   "source": [
    "ax1 = all_dfs.plot(kind='scatter', x = 'total_2018', y = 'funding_2018', color ='b', label = 'State', figsize =(8,6))\n",
    "\n",
    "ymin1, ymax1 = ax1.get_ylim()\n",
    "ax1.vlines(all_dfs['total_2018'].mean(), ymin = ymin1, ymax = ymax1, color = 'red', label = 'Average') #plot line for avg score\n",
    "xmin1, xmax1 = ax1.get_xlim()\n",
    "ax1.hlines(all_dfs['funding_2018'].mean(), xmin = xmin1, xmax = xmax1, color = 'red')                  #plot line for avg fund\n",
    "\n",
    "plt.legend(loc = 'upper right')\n",
    "plt.title('Average Funding per State vs Total Average Score per State')\n",
    "plt.xlabel('Score')\n",
    "plt.ylabel('Funding ($)');"
   ]
  },
  {
   "cell_type": "markdown",
   "metadata": {},
   "source": [
    "Majority of the States are below average in scores and below average in funding"
   ]
  },
  {
   "cell_type": "code",
   "execution_count": 67,
   "metadata": {
    "scrolled": false
   },
   "outputs": [
    {
     "data": {
      "image/png": "[encoded data removed]",
      "text/plain": [
       "<Figure size 576x432 with 1 Axes>"
      ]
     },
     "metadata": {
      "needs_background": "light"
     },
     "output_type": "display_data"
    }
   ],
   "source": [
    "ax2 = all_dfs.plot(kind = 'scatter', x = 'total_2019', y = 'funding_2019', color = 'orange', label = 'State', figsize = (8,6))\n",
    "\n",
    "ymin2, ymax2 = ax2.get_ylim()\n",
    "ax2.vlines(all_dfs['total_2019'].mean(), ymin = ymin2, ymax = ymax2, color ='green', label = 'Average')  #plot line for avg score\n",
    "xmin2, xmax2 = ax2.get_xlim()\n",
    "ax2.hlines(all_dfs['funding_2019'].mean(), xmin = xmin2, xmax = xmax2, color ='green')                   #plot line for avg fund\n",
    "\n",
    "plt.legend(loc = 'upper right')\n",
    "plt.title('Average Funding per State vs Total Average Score per State')\n",
    "plt.xlabel('Score')\n",
    "plt.ylabel('Funding ($)');"
   ]
  },
  {
   "cell_type": "markdown",
   "metadata": {},
   "source": [
    "Likewise for 2019"
   ]
  },
  {
   "cell_type": "code",
   "execution_count": 68,
   "metadata": {
    "scrolled": false
   },
   "outputs": [
    {
     "data": {
      "image/png": "[encoded data removed]",
      "text/plain": [
       "<Figure size 576x432 with 1 Axes>"
      ]
     },
     "metadata": {
      "needs_background": "light"
     },
     "output_type": "display_data"
    }
   ],
   "source": [
    "#merge both scatter graphs, 2019 shows higher spendings and lower scores obtains compared to 2018\n",
    "ax3 = all_dfs.plot(kind='scatter', x = 'total_2018', y = 'funding_2018', color ='b', label = 'State (2018)', figsize = (8,6))\n",
    "all_dfs.plot(kind='scatter', x = 'total_2019', y = 'funding_2019', color = 'orange', label = 'State (2019)', ax = ax3)\n",
    "ymin3, ymax3 = ax3.get_ylim()\n",
    "ax3.vlines(all_dfs['total_2018'].mean(), ymin = ymin3, ymax = ymax3, color = 'red', label = ' Average (2018)')\n",
    "ax3.vlines(all_dfs['total_2019'].mean(), ymin = ymin3, ymax = ymax3, color = 'green', label = 'Average (2019)')\n",
    "xmin3, xmax3 = ax3.get_xlim()\n",
    "ax3.hlines(all_dfs['funding_2018'].mean(), xmin = xmin3, xmax = xmax3, color = 'red')\n",
    "ax3.hlines(all_dfs['funding_2019'].mean(), xmin = xmin3, xmax = xmax3, color = 'green')\n",
    "\n",
    "plt.title('Average Funding per State vs Total Average Score per State')\n",
    "plt.legend(loc = 'upper right')\n",
    "plt.xlabel('Score')\n",
    "plt.ylabel('Funding ($)');"
   ]
  },
  {
   "cell_type": "markdown",
   "metadata": {},
   "source": [
    "2019 has higher average funding and lower average score obtained."
   ]
  },
  {
   "cell_type": "code",
   "execution_count": 69,
   "metadata": {},
   "outputs": [
    {
     "data": {
      "image/png": "[encoded data removed]",
      "text/plain": [
       "<Figure size 864x432 with 2 Axes>"
      ]
     },
     "metadata": {
      "needs_background": "light"
     },
     "output_type": "display_data"
    }
   ],
   "source": [
    "# funding vs participation rate\n",
    "fig, axes = plt.subplots(nrows=1,ncols=2,figsize=(12,6))\n",
    "ax4 = all_dfs.plot(kind = 'scatter', x = 'participation_2018', y = 'funding_2018', color = 'forestgreen', label = 'State', xlabel = 'Participation Rate in 2018', ylabel = 'Funding ($) in 2018', ax = axes[0], subplots = True, title = 'Average Funding Per State vs Participation Rate Per State')\n",
    "ax5 = all_dfs.plot(kind = 'scatter', x = 'participation_2019', y = 'funding_2019', color = 'darkorchid', label = 'State', xlabel = 'Participation Rate in 2019', ylabel = 'Funding ($) in 2019', ax = axes[1], subplots = True)\n"
   ]
  },
  {
   "cell_type": "markdown",
   "metadata": {},
   "source": [
    "2018 and 2019 show positive correlation between funding and participation rate."
   ]
  },
  {
   "cell_type": "code",
   "execution_count": 70,
   "metadata": {},
   "outputs": [
    {
     "data": {
      "image/png": "[encoded data removed]",
      "text/plain": [
       "<Figure size 432x288 with 1 Axes>"
      ]
     },
     "metadata": {
      "needs_background": "light"
     },
     "output_type": "display_data"
    }
   ],
   "source": [
    "#plot histogram\n",
    "plt.hist(all_dfs['total_2018'], bins = 10, color = 'lightblue')\n",
    "plt.axvline(all_dfs['total_2018'].mean(), linestyle = 'dashed', color = 'blue', label = 'mean');\n",
    "\n",
    "plt.xlabel('Total Average Score')\n",
    "plt.ylabel('No. of States')\n",
    "plt.legend(loc = 'upper right')\n",
    "plt.title('Total Average Score per State in 2018');"
   ]
  },
  {
   "cell_type": "code",
   "execution_count": 71,
   "metadata": {},
   "outputs": [
    {
     "data": {
      "image/png": "[encoded data removed]",
      "text/plain": [
       "<Figure size 432x288 with 1 Axes>"
      ]
     },
     "metadata": {
      "needs_background": "light"
     },
     "output_type": "display_data"
    }
   ],
   "source": [
    "plt.hist(all_dfs['total_2019'], bins = 10, color = 'darkkhaki')\n",
    "plt.axvline(all_dfs['total_2019'].mean(), linestyle = 'dashed', color = 'maroon', label = 'mean');\n",
    "\n",
    "plt.xlabel('Total Average Score')\n",
    "plt.ylabel('No. of States')\n",
    "plt.legend(loc = 'upper right')\n",
    "plt.title('Total Average Score per State in 2019');"
   ]
  },
  {
   "cell_type": "code",
   "execution_count": 72,
   "metadata": {},
   "outputs": [
    {
     "data": {
      "image/png": "[encoded data removed]",
      "text/plain": [
       "<Figure size 432x288 with 1 Axes>"
      ]
     },
     "metadata": {
      "needs_background": "light"
     },
     "output_type": "display_data"
    }
   ],
   "source": [
    "#merge both 2018 & 2019 histograms\n",
    "plt.hist(all_dfs['total_2018'], bins = 10, color = 'lightblue')\n",
    "plt.axvline(all_dfs['total_2018'].mean(), linestyle = 'dashed', color = 'blue', label = 'mean (2018)');\n",
    "\n",
    "plt.hist(all_dfs['total_2019'], bins = 10, alpha = 0.4, color = 'darkkhaki')\n",
    "plt.axvline(all_dfs['total_2019'].mean(), linestyle = 'dashed', color = 'maroon', label = 'mean (2019)');\n",
    "\n",
    "plt.xlabel('Total Average Score')\n",
    "plt.ylabel('No. of States')\n",
    "plt.legend(loc = 'upper right')\n",
    "plt.title('Total Average Score per State in 2018 & 2019');"
   ]
  },
  {
   "cell_type": "markdown",
   "metadata": {},
   "source": [
    "Average score is lower in 2019. In fact, majority of the states are scoring less than average! "
   ]
  },
  {
   "cell_type": "code",
   "execution_count": 73,
   "metadata": {},
   "outputs": [
    {
     "data": {
      "image/png": "[encoded data removed]",
      "text/plain": [
       "<Figure size 432x288 with 1 Axes>"
      ]
     },
     "metadata": {
      "needs_background": "light"
     },
     "output_type": "display_data"
    }
   ],
   "source": [
    "plt.hist(all_dfs['funding_2018'], bins = 10, color = 'darkseagreen')\n",
    "plt.axvline(all_dfs['funding_2018'].mean(), linestyle = 'dashed', color = 'green', label = 'mean');\n",
    "\n",
    "plt.xlabel('Average Funding ($)');\n",
    "plt.ylabel('No. of States')\n",
    "plt.legend(loc = 'upper right')\n",
    "plt.title('Average Funding per State in 2018');\n"
   ]
  },
  {
   "cell_type": "code",
   "execution_count": 74,
   "metadata": {},
   "outputs": [
    {
     "data": {
      "image/png": "[encoded data removed]",
      "text/plain": [
       "<Figure size 432x288 with 1 Axes>"
      ]
     },
     "metadata": {
      "needs_background": "light"
     },
     "output_type": "display_data"
    }
   ],
   "source": [
    "plt.hist(all_dfs['funding_2019'], bins = 10, color = 'thistle')\n",
    "plt.axvline(all_dfs['funding_2019'].mean(), linestyle = 'dashed', color = 'purple', label = 'mean');\n",
    "\n",
    "plt.xlabel('Average Funding ($)')\n",
    "plt.ylabel('No. of States')\n",
    "plt.legend(loc = 'upper right')\n",
    "plt.title('Average Funding per State in 2019');"
   ]
  },
  {
   "cell_type": "code",
   "execution_count": 75,
   "metadata": {},
   "outputs": [
    {
     "data": {
      "image/png": "[encoded data removed]",
      "text/plain": [
       "<Figure size 432x288 with 1 Axes>"
      ]
     },
     "metadata": {
      "needs_background": "light"
     },
     "output_type": "display_data"
    }
   ],
   "source": [
    "#Merge 2018 and 2019 histograms\n",
    "plt.hist(all_dfs['funding_2018'], bins = 10, color = 'darkseagreen')\n",
    "plt.axvline(all_dfs['funding_2018'].mean(), linestyle = 'dashed', color = 'green', label = 'mean (2018)');\n",
    "\n",
    "plt.hist(all_dfs['funding_2019'], bins = 10, color = 'thistle', alpha = 0.7)\n",
    "plt.axvline(all_dfs['funding_2019'].mean(), linestyle = 'dashed', color = 'purple', label = 'mean (2019)');\n",
    "\n",
    "plt.xlabel('Average Funding ($)')\n",
    "plt.ylabel('No. of States')\n",
    "plt.legend(loc = 'upper right')\n",
    "plt.title('Average Funding per State in 2018 & 2019');\n"
   ]
  },
  {
   "cell_type": "markdown",
   "metadata": {},
   "source": [
    "Higher average funding in 2019"
   ]
  },
  {
   "cell_type": "code",
   "execution_count": 76,
   "metadata": {},
   "outputs": [
    {
     "data": {
      "image/png": "[encoded data removed]",
      "text/plain": [
       "<Figure size 432x288 with 1 Axes>"
      ]
     },
     "metadata": {
      "needs_background": "light"
     },
     "output_type": "display_data"
    }
   ],
   "source": [
    "#using boxplot to compare the average and finding the outliner\n",
    "all_dfs.boxplot(column= ['funding_2018', 'funding_2019'])\n",
    "plt.ylabel('Average Funding ($)')\n",
    "plt.grid(True, alpha = 0.2);"
   ]
  },
  {
   "cell_type": "code",
   "execution_count": 77,
   "metadata": {},
   "outputs": [
    {
     "data": {
      "image/png": "[encoded data removed]",
      "text/plain": [
       "<Figure size 432x288 with 1 Axes>"
      ]
     },
     "metadata": {
      "needs_background": "light"
     },
     "output_type": "display_data"
    }
   ],
   "source": [
    "all_dfs.boxplot(column= ['total_2018', 'total_2019'])\n",
    "plt.ylabel('Average Score')\n",
    "plt.grid(True, alpha = 0.2);"
   ]
  },
  {
   "cell_type": "markdown",
   "metadata": {},
   "source": [
    "#### Now we know that with higher funding does not guarantee higher scores. Hence, we can investigate further to decide how to utilize the additional funds."
   ]
  },
  {
   "cell_type": "code",
   "execution_count": 78,
   "metadata": {
    "scrolled": false
   },
   "outputs": [
    {
     "data": {
      "text/html": [
       "<div>\n",
       "<style scoped>\n",
       "    .dataframe tbody tr th:only-of-type {\n",
       "        vertical-align: middle;\n",
       "    }\n",
       "\n",
       "    .dataframe tbody tr th {\n",
       "        vertical-align: top;\n",
       "    }\n",
       "\n",
       "    .dataframe thead th {\n",
       "        text-align: right;\n",
       "    }\n",
       "</style>\n",
       "<table border=\"1\" class=\"dataframe\">\n",
       "  <thead>\n",
       "    <tr style=\"text-align: right;\">\n",
       "      <th></th>\n",
       "      <th>state</th>\n",
       "      <th>participation_2018</th>\n",
       "      <th>participation_2019</th>\n",
       "      <th>total_2018</th>\n",
       "      <th>total_2019</th>\n",
       "      <th>score_var</th>\n",
       "      <th>funding_2018</th>\n",
       "      <th>funding_2019</th>\n",
       "      <th>fund_var</th>\n",
       "    </tr>\n",
       "  </thead>\n",
       "  <tbody>\n",
       "    <tr>\n",
       "      <th>44</th>\n",
       "      <td>Utah</td>\n",
       "      <td>0.04</td>\n",
       "      <td>0.04</td>\n",
       "      <td>1010</td>\n",
       "      <td>1229</td>\n",
       "      <td>219</td>\n",
       "      <td>7627.66</td>\n",
       "      <td>8014.31</td>\n",
       "      <td>386.65</td>\n",
       "    </tr>\n",
       "    <tr>\n",
       "      <th>11</th>\n",
       "      <td>Hawaii</td>\n",
       "      <td>0.56</td>\n",
       "      <td>0.54</td>\n",
       "      <td>1010</td>\n",
       "      <td>1100</td>\n",
       "      <td>90</td>\n",
       "      <td>15242.00</td>\n",
       "      <td>16131.68</td>\n",
       "      <td>889.68</td>\n",
       "    </tr>\n",
       "    <tr>\n",
       "      <th>41</th>\n",
       "      <td>South Dakota</td>\n",
       "      <td>0.03</td>\n",
       "      <td>0.03</td>\n",
       "      <td>1240</td>\n",
       "      <td>1268</td>\n",
       "      <td>28</td>\n",
       "      <td>10073.41</td>\n",
       "      <td>10138.82</td>\n",
       "      <td>65.41</td>\n",
       "    </tr>\n",
       "    <tr>\n",
       "      <th>28</th>\n",
       "      <td>Nevada</td>\n",
       "      <td>0.23</td>\n",
       "      <td>0.20</td>\n",
       "      <td>1140</td>\n",
       "      <td>1156</td>\n",
       "      <td>16</td>\n",
       "      <td>9294.57</td>\n",
       "      <td>9343.93</td>\n",
       "      <td>49.36</td>\n",
       "    </tr>\n",
       "    <tr>\n",
       "      <th>27</th>\n",
       "      <td>Nebraska</td>\n",
       "      <td>0.03</td>\n",
       "      <td>0.03</td>\n",
       "      <td>1252</td>\n",
       "      <td>1259</td>\n",
       "      <td>7</td>\n",
       "      <td>12815.75</td>\n",
       "      <td>12743.42</td>\n",
       "      <td>-72.33</td>\n",
       "    </tr>\n",
       "  </tbody>\n",
       "</table>\n",
       "</div>"
      ],
      "text/plain": [
       "           state  participation_2018  participation_2019  total_2018  \\\n",
       "44          Utah                0.04                0.04        1010   \n",
       "11        Hawaii                0.56                0.54        1010   \n",
       "41  South Dakota                0.03                0.03        1240   \n",
       "28        Nevada                0.23                0.20        1140   \n",
       "27      Nebraska                0.03                0.03        1252   \n",
       "\n",
       "    total_2019  score_var  funding_2018  funding_2019  fund_var  \n",
       "44        1229        219       7627.66       8014.31    386.65  \n",
       "11        1100         90      15242.00      16131.68    889.68  \n",
       "41        1268         28      10073.41      10138.82     65.41  \n",
       "28        1156         16       9294.57       9343.93     49.36  \n",
       "27        1259          7      12815.75      12743.42    -72.33  "
      ]
     },
     "execution_count": 78,
     "metadata": {},
     "output_type": "execute_result"
    }
   ],
   "source": [
    "#Most improved in total scores\n",
    "all_dfs.sort_values(by = 'score_var', ascending= False)[['state','participation_2018', 'participation_2019','total_2018', 'total_2019', 'score_var', 'funding_2018', 'funding_2019', 'fund_var']].head()"
   ]
  },
  {
   "cell_type": "markdown",
   "metadata": {},
   "source": [
    "Top 5 states with the most improvement in scores.\n",
    "Utah is doing extremely well:\n",
    "- score improved by 219 (21.7%) from 2018 to 2019\n",
    "- score was below average in 2018 and achieve above average in 2019\n",
    "- funding is lower than average for both years\n",
    "- bottom 5 states for funding"
   ]
  },
  {
   "cell_type": "code",
   "execution_count": 79,
   "metadata": {
    "scrolled": true
   },
   "outputs": [
    {
     "data": {
      "text/html": [
       "<div>\n",
       "<style scoped>\n",
       "    .dataframe tbody tr th:only-of-type {\n",
       "        vertical-align: middle;\n",
       "    }\n",
       "\n",
       "    .dataframe tbody tr th {\n",
       "        vertical-align: top;\n",
       "    }\n",
       "\n",
       "    .dataframe thead th {\n",
       "        text-align: right;\n",
       "    }\n",
       "</style>\n",
       "<table border=\"1\" class=\"dataframe\">\n",
       "  <thead>\n",
       "    <tr style=\"text-align: right;\">\n",
       "      <th></th>\n",
       "      <th>state</th>\n",
       "      <th>participation_2018</th>\n",
       "      <th>participation_2019</th>\n",
       "      <th>total_2018</th>\n",
       "      <th>total_2019</th>\n",
       "      <th>score_var</th>\n",
       "      <th>funding_2018</th>\n",
       "      <th>funding_2019</th>\n",
       "      <th>fund_var</th>\n",
       "    </tr>\n",
       "  </thead>\n",
       "  <tbody>\n",
       "    <tr>\n",
       "      <th>35</th>\n",
       "      <td>Oklahoma</td>\n",
       "      <td>0.08</td>\n",
       "      <td>0.22</td>\n",
       "      <td>1062</td>\n",
       "      <td>962</td>\n",
       "      <td>-100</td>\n",
       "      <td>8238.62</td>\n",
       "      <td>9322.57</td>\n",
       "      <td>1083.95</td>\n",
       "    </tr>\n",
       "    <tr>\n",
       "      <th>9</th>\n",
       "      <td>Florida</td>\n",
       "      <td>0.56</td>\n",
       "      <td>1.00</td>\n",
       "      <td>1099</td>\n",
       "      <td>999</td>\n",
       "      <td>-100</td>\n",
       "      <td>9346.04</td>\n",
       "      <td>9645.31</td>\n",
       "      <td>299.27</td>\n",
       "    </tr>\n",
       "    <tr>\n",
       "      <th>48</th>\n",
       "      <td>West Virginia</td>\n",
       "      <td>0.28</td>\n",
       "      <td>0.99</td>\n",
       "      <td>999</td>\n",
       "      <td>943</td>\n",
       "      <td>-56</td>\n",
       "      <td>11334.15</td>\n",
       "      <td>12009.85</td>\n",
       "      <td>675.70</td>\n",
       "    </tr>\n",
       "    <tr>\n",
       "      <th>40</th>\n",
       "      <td>South Carolina</td>\n",
       "      <td>0.55</td>\n",
       "      <td>0.68</td>\n",
       "      <td>1070</td>\n",
       "      <td>1030</td>\n",
       "      <td>-40</td>\n",
       "      <td>10856.15</td>\n",
       "      <td>11139.97</td>\n",
       "      <td>283.82</td>\n",
       "    </tr>\n",
       "    <tr>\n",
       "      <th>3</th>\n",
       "      <td>Arkansas</td>\n",
       "      <td>0.05</td>\n",
       "      <td>0.06</td>\n",
       "      <td>1168</td>\n",
       "      <td>1141</td>\n",
       "      <td>-27</td>\n",
       "      <td>10138.68</td>\n",
       "      <td>10387.82</td>\n",
       "      <td>249.14</td>\n",
       "    </tr>\n",
       "  </tbody>\n",
       "</table>\n",
       "</div>"
      ],
      "text/plain": [
       "             state  participation_2018  participation_2019  total_2018  \\\n",
       "35        Oklahoma                0.08                0.22        1062   \n",
       "9          Florida                0.56                1.00        1099   \n",
       "48   West Virginia                0.28                0.99         999   \n",
       "40  South Carolina                0.55                0.68        1070   \n",
       "3         Arkansas                0.05                0.06        1168   \n",
       "\n",
       "    total_2019  score_var  funding_2018  funding_2019  fund_var  \n",
       "35         962       -100       8238.62       9322.57   1083.95  \n",
       "9          999       -100       9346.04       9645.31    299.27  \n",
       "48         943        -56      11334.15      12009.85    675.70  \n",
       "40        1030        -40      10856.15      11139.97    283.82  \n",
       "3         1141        -27      10138.68      10387.82    249.14  "
      ]
     },
     "execution_count": 79,
     "metadata": {},
     "output_type": "execute_result"
    }
   ],
   "source": [
    "#decrease the most in scores\n",
    "all_dfs.sort_values(by = 'score_var', ascending= True)[['state','participation_2018', 'participation_2019', 'total_2018', 'total_2019', 'score_var', 'funding_2018', 'funding_2019', 'fund_var']].head()"
   ]
  },
  {
   "cell_type": "markdown",
   "metadata": {},
   "source": [
    "Top 5 states with the most decline in scores. \n",
    "Even though Oklahoma has increased the average funding by 1k, however, they declined the most in scores."
   ]
  },
  {
   "cell_type": "code",
   "execution_count": 80,
   "metadata": {},
   "outputs": [
    {
     "data": {
      "text/html": [
       "<div>\n",
       "<style scoped>\n",
       "    .dataframe tbody tr th:only-of-type {\n",
       "        vertical-align: middle;\n",
       "    }\n",
       "\n",
       "    .dataframe tbody tr th {\n",
       "        vertical-align: top;\n",
       "    }\n",
       "\n",
       "    .dataframe thead th {\n",
       "        text-align: right;\n",
       "    }\n",
       "</style>\n",
       "<table border=\"1\" class=\"dataframe\">\n",
       "  <thead>\n",
       "    <tr style=\"text-align: right;\">\n",
       "      <th></th>\n",
       "      <th>state</th>\n",
       "      <th>participation_2018</th>\n",
       "      <th>participation_2019</th>\n",
       "      <th>total_2018</th>\n",
       "      <th>total_2019</th>\n",
       "      <th>score_var</th>\n",
       "      <th>funding_2018</th>\n",
       "      <th>funding_2019</th>\n",
       "      <th>fund_var</th>\n",
       "    </tr>\n",
       "  </thead>\n",
       "  <tbody>\n",
       "    <tr>\n",
       "      <th>4</th>\n",
       "      <td>California</td>\n",
       "      <td>0.60</td>\n",
       "      <td>0.63</td>\n",
       "      <td>1076</td>\n",
       "      <td>1065</td>\n",
       "      <td>-11</td>\n",
       "      <td>12142.72</td>\n",
       "      <td>14034.94</td>\n",
       "      <td>1892.22</td>\n",
       "    </tr>\n",
       "    <tr>\n",
       "      <th>47</th>\n",
       "      <td>Washington</td>\n",
       "      <td>0.69</td>\n",
       "      <td>0.70</td>\n",
       "      <td>1081</td>\n",
       "      <td>1074</td>\n",
       "      <td>-7</td>\n",
       "      <td>12995.02</td>\n",
       "      <td>14223.19</td>\n",
       "      <td>1228.17</td>\n",
       "    </tr>\n",
       "    <tr>\n",
       "      <th>32</th>\n",
       "      <td>New York</td>\n",
       "      <td>0.79</td>\n",
       "      <td>0.79</td>\n",
       "      <td>1068</td>\n",
       "      <td>1064</td>\n",
       "      <td>-4</td>\n",
       "      <td>24048.21</td>\n",
       "      <td>25139.20</td>\n",
       "      <td>1090.99</td>\n",
       "    </tr>\n",
       "    <tr>\n",
       "      <th>35</th>\n",
       "      <td>Oklahoma</td>\n",
       "      <td>0.08</td>\n",
       "      <td>0.22</td>\n",
       "      <td>1062</td>\n",
       "      <td>962</td>\n",
       "      <td>-100</td>\n",
       "      <td>8238.62</td>\n",
       "      <td>9322.57</td>\n",
       "      <td>1083.95</td>\n",
       "    </tr>\n",
       "    <tr>\n",
       "      <th>30</th>\n",
       "      <td>New Jersey</td>\n",
       "      <td>0.82</td>\n",
       "      <td>0.82</td>\n",
       "      <td>1094</td>\n",
       "      <td>1089</td>\n",
       "      <td>-5</td>\n",
       "      <td>19526.25</td>\n",
       "      <td>20512.01</td>\n",
       "      <td>985.76</td>\n",
       "    </tr>\n",
       "  </tbody>\n",
       "</table>\n",
       "</div>"
      ],
      "text/plain": [
       "         state  participation_2018  participation_2019  total_2018  \\\n",
       "4   California                0.60                0.63        1076   \n",
       "47  Washington                0.69                0.70        1081   \n",
       "32    New York                0.79                0.79        1068   \n",
       "35    Oklahoma                0.08                0.22        1062   \n",
       "30  New Jersey                0.82                0.82        1094   \n",
       "\n",
       "    total_2019  score_var  funding_2018  funding_2019  fund_var  \n",
       "4         1065        -11      12142.72      14034.94   1892.22  \n",
       "47        1074         -7      12995.02      14223.19   1228.17  \n",
       "32        1064         -4      24048.21      25139.20   1090.99  \n",
       "35         962       -100       8238.62       9322.57   1083.95  \n",
       "30        1089         -5      19526.25      20512.01    985.76  "
      ]
     },
     "execution_count": 80,
     "metadata": {},
     "output_type": "execute_result"
    }
   ],
   "source": [
    "#Increase most fund from 2018 to 2019\n",
    "all_dfs.sort_values(by = 'fund_var', ascending= False)[['state','participation_2018', 'participation_2019','total_2018', 'total_2019', 'score_var', 'funding_2018', 'funding_2019', 'fund_var']].head()"
   ]
  },
  {
   "cell_type": "markdown",
   "metadata": {},
   "source": [
    "For the top 5 states with the highest increase in funding ($), the scores are all below average. "
   ]
  },
  {
   "cell_type": "markdown",
   "metadata": {},
   "source": [
    "## Conclusions and Recommendations"
   ]
  },
  {
   "cell_type": "markdown",
   "metadata": {},
   "source": [
    "Based on your exploration of the data, what are you key takeaways and recommendations? Make sure to answer your question of interest or address your problem statement here."
   ]
  },
  {
   "cell_type": "markdown",
   "metadata": {},
   "source": [
    "Conclusions: \n",
    "\n",
    "1. Positive correlation between funding and SAT participation rate.\n",
    "2. Weak correlation observed between funding and SAT total average scores.\n",
    "3. Total funding increased from 2018 to 2019, however, slightly lower grades obtained.\n",
    "\n",
    "Recommendations:\n",
    "\n",
    "1. More funds can be allocated to states which have the most improvement in the total average scores as a form of incentive as these states show potential or seem to display effective educational systems.\n",
    "2. As more funds are allocated in these selected states, participation rates will increase. This will encourage less wealthy students to participate as well.\n",
    "3. Propose to provide additional funding to the States with low participation rate, with improving SAT scores. Such as Utah, Hawaii, South Dakota, Nevada, and Nebraska. \n",
    "4. This can help to improve participation rates and total average SAT scores.\n",
    "\n"
   ]
  }
 ],
 "metadata": {
  "anaconda-cloud": {},
  "kernelspec": {
   "display_name": "Python 3",
   "language": "python",
   "name": "python3"
  },
  "language_info": {
   "codemirror_mode": {
    "name": "ipython",
    "version": 3
   },
   "file_extension": ".py",
   "mimetype": "text/x-python",
   "name": "python",
   "nbconvert_exporter": "python",
   "pygments_lexer": "ipython3",
   "version": "3.8.8"
  }
 },
 "nbformat": 4,
 "nbformat_minor": 4
}
