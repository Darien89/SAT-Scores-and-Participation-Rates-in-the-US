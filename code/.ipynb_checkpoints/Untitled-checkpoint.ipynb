{
 "cells": [
  {
   "cell_type": "markdown",
   "id": "ccdfc9e4",
   "metadata": {},
   "source": [
    "# Problem Statement"
   ]
  },
  {
   "cell_type": "markdown",
   "id": "47b05031",
   "metadata": {},
   "source": [
    "The U.S. Department of Education wants to promote preparation for global competitiveness and intends to announce a new grant program. <br>The hypothesis is that additional funding to the states will increase the states' SAT participation and SAT scores. This project examines the relationship between per pupil funding, the SAT participation and SAT scores for the years 2018 and 2019, with a recommendation on how to best distribute the additional funding."
   ]
  },
  {
   "cell_type": "markdown",
   "id": "556f4c1b",
   "metadata": {},
   "source": [
    "# Executive Summary"
   ]
  },
  {
   "cell_type": "markdown",
   "id": "af3e5bda",
   "metadata": {},
   "source": [
    "Examine and analyze relationship between the scores, fundings and participation rate using datasets from 2018 and 2019"
   ]
  },
  {
   "cell_type": "markdown",
   "id": "8bcbecec",
   "metadata": {},
   "source": [
    "### Content:"
   ]
  },
  {
   "cell_type": "markdown",
   "id": "eccfe081",
   "metadata": {},
   "source": [
    "- 2018 SAT Data Import, Cleaning and Sorting\n",
    "- 2019 SAT Data Import, Cleaning and Sorting\n",
    "- 2018 & 2019 Funding Data Import and Cleaning\n",
    "- Exploratory Data Analysis\n",
    "- Data Visualization\n",
    "- Descriptive and Inferential statistics\n",
    "- Conclusions and Recommendations\n",
    "\n",
    "<ins>Data\n",
    "* [`act_2018.csv`](./data/act_2018.csv): 2018 ACT Scores by State\n",
    "* [`act_2019.csv`](./data/act_2019.csv): 2019 ACT Scores by State\n",
    "* [`total_spending_per_student_by_state_2018_2019.csv`](./source/total_spending_per_student_by_state_2018_2019.csv): 2018 & 2019 Funding per Student by State"
   ]
  },
  {
   "cell_type": "markdown",
   "id": "108602aa",
   "metadata": {},
   "source": [
    "# Data Dictionary"
   ]
  },
  {
   "cell_type": "markdown",
   "id": "84103589",
   "metadata": {},
   "source": [
    "|Feature|Type|Dataset|<p align='right'>Description|\n",
    "|---|---|---|---|\n",
    "|state|object|all_dfs|<p align='right'>State in the US and District of Columbia| \n",
    "|participation_2018|float64|all_dfs|<p align='right'>The SAT participation rate in 2018 (units percent to two decimals places 0.06 means 6%)|\n",
    "|ebrw_2018|int64|all_dfs|<p align='right'>The SAT average score of the Evidence-Based Reading and Writing section in 2018 (out of 800)|\n",
    "|math_2018|int64|all_dfs|<p align='right'>The SAT average score of the Mathematics section in 2018 (out of 800)|\n",
    "|total_2018|int64|all_dfs|<p align='right'>The average of the total SAT score in 2018 (out of 1600)|\n",
    "|participation_2019|float64|all_dfs|<p align='right'>The SAT participation rate in 2019 (units percent to two decimals places 0.06 means 6%)|\n",
    "|ebrw_2019|int64|all_dfs|<p align='right'>The SAT average score of the Evidence-Based Reading and Writing section in 2019 (out of 800)|\n",
    "|math_2019|int64|all_dfs|<p align='right'>The SAT average score of the Mathematics section in 2019 (out of 800)|\n",
    "|total_2019|int64|all_dfs|<p align='right'>The average of the total SAT score in 2019 (out of 1600)|\n",
    "|code|object|all_dfs|<p align='right'>The list of US state code|\n",
    "|funding_2018|float64|all_dfs|<p align='right'>The average funding per student by state|\n",
    "|funding_2019|float64|all_dfs|<p align='right'>The average funding per student by state|\n",
    "|score_var|int64|all_dfs|<p align='right'>The SAT average score variance from year 2018 to 2019 per student by state|\n",
    "|fund_var|float64|all_dfs|<p align='right'>The SAT average fund variance from year 2018 to 2019 per student by state|"
   ]
  },
  {
   "cell_type": "markdown",
   "id": "2a1ce18f",
   "metadata": {},
   "source": [
    "# Analysis and Conclusion"
   ]
  },
  {
   "cell_type": "markdown",
   "id": "fa8f5110",
   "metadata": {},
   "source": [
    "1. Positive correlation between funding and SAT participation rate.\n",
    "2. Weak correlation observed between funding and SAT total average scores.\n",
    "3. Total funding increased from 2018 to 2019, however, slightly lower grades obtained."
   ]
  },
  {
   "cell_type": "markdown",
   "id": "a6f55115",
   "metadata": {},
   "source": [
    "# Recommendations"
   ]
  },
  {
   "cell_type": "markdown",
   "id": "d9c13b9e",
   "metadata": {},
   "source": [
    "1. More funds can be allocated to states which have the most improvement in the total average scores as a form of incentive as these states show potential or seem to display effective educational systems.\n",
    "2. As more funds are allocated in these selected states, participation rates will increase. This will encourage less wealthy students to participate as well.\n",
    "3. Propose to provide additional funding to the States with low participation rate, with improving SAT scores. Such as Utah, Hawaii, South Dakota, Nevada, and Nebraska. \n",
    "4. This can help to improve participation rates and total average SAT scores."
   ]
  },
  {
   "cell_type": "markdown",
   "id": "f2d99295",
   "metadata": {},
   "source": [
    "### Given Sources:"
   ]
  },
  {
   "cell_type": "markdown",
   "id": "75296595",
   "metadata": {},
   "source": [
    "* [SAT](https://collegereadiness.collegeboard.org/sat)\n",
    "* [ACT](https://www.act.org/content/act/en.html)"
   ]
  },
  {
   "cell_type": "markdown",
   "id": "988ce661",
   "metadata": {},
   "source": [
    "### Additional Sources"
   ]
  },
  {
   "cell_type": "markdown",
   "id": "d7e67202",
   "metadata": {},
   "source": [
    "* [2018 Funding](https://www.census.gov/data/tables/2018/econ/school-finances/secondary-education-finance.html)\n",
    "* [2019 Funding](https://www.census.gov/data/tables/2019/econ/school-finances/secondary-education-finance.html)\n",
    "* [Rich students get better SAT scores](https://www.cnbc.com/2019/10/03/rich-students-get-better-sat-scores-heres-why.html)"
   ]
  }
 ],
 "metadata": {
  "kernelspec": {
   "display_name": "Python 3",
   "language": "python",
   "name": "python3"
  },
  "language_info": {
   "codemirror_mode": {
    "name": "ipython",
    "version": 3
   },
   "file_extension": ".py",
   "mimetype": "text/x-python",
   "name": "python",
   "nbconvert_exporter": "python",
   "pygments_lexer": "ipython3",
   "version": "3.8.8"
  }
 },
 "nbformat": 4,
 "nbformat_minor": 5
}
